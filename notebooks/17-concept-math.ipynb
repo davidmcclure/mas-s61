{
 "cells": [
  {
   "cell_type": "code",
   "execution_count": 1,
   "metadata": {},
   "outputs": [],
   "source": [
    "import numpy as np\n",
    "import pandas as pd\n",
    "\n",
    "from gensim.models import KeyedVectors\n",
    "from scipy.spatial.distance import cosine\n",
    "from tqdm import tqdm_notebook\n",
    "\n",
    "from sources import parse_glove_vocab"
   ]
  },
  {
   "cell_type": "code",
   "execution_count": 2,
   "metadata": {},
   "outputs": [],
   "source": [
    "import matplotlib as mpl\n",
    "import matplotlib.pyplot as plt\n",
    "\n",
    "%matplotlib inline\n",
    "mpl.style.use('bmh')"
   ]
  },
  {
   "cell_type": "code",
   "execution_count": 3,
   "metadata": {},
   "outputs": [],
   "source": [
    "pd.options.display.max_rows = 1000"
   ]
  },
  {
   "cell_type": "code",
   "execution_count": 4,
   "metadata": {},
   "outputs": [],
   "source": [
    "m1 = KeyedVectors.load_word2vec_format('../data/corpora/north-south/new-england.w2v.txt')"
   ]
  },
  {
   "cell_type": "code",
   "execution_count": 5,
   "metadata": {},
   "outputs": [],
   "source": [
    "m2 = KeyedVectors.load_word2vec_format('../data/corpora/north-south/deep-south.w2v.txt')"
   ]
  },
  {
   "cell_type": "code",
   "execution_count": 6,
   "metadata": {},
   "outputs": [],
   "source": [
    "vocab = parse_glove_vocab('../data/corpora/north-south/vocab.txt')"
   ]
  },
  {
   "cell_type": "code",
   "execution_count": 7,
   "metadata": {},
   "outputs": [
    {
     "data": {
      "text/plain": [
       "[('planet', 0.6611870527267456),\n",
       " ('flat', 0.4506067931652069),\n",
       " ('heaven', 0.4433976411819458),\n",
       " ('mother', 0.42221304774284363),\n",
       " ('humans', 0.3965595066547394),\n",
       " ('moon', 0.3851078748703003),\n",
       " ('world', 0.37977415323257446),\n",
       " ('mars', 0.3729405403137207),\n",
       " ('nasa', 0.367029070854187),\n",
       " ('ocean', 0.3626718521118164),\n",
       " ('universe', 0.3579068183898926),\n",
       " ('nature', 0.3503480553627014),\n",
       " ('alien', 0.3462546765804291),\n",
       " ('science', 0.32632237672805786),\n",
       " ('worlds', 0.3172537088394165),\n",
       " ('exist', 0.3115980327129364),\n",
       " ('god', 0.3109760880470276),\n",
       " ('happiest', 0.3101898431777954),\n",
       " ('destroy', 0.30653250217437744),\n",
       " ('human', 0.2999586760997772),\n",
       " ('mothers', 0.2968764007091522),\n",
       " ('🌎', 0.29605579376220703),\n",
       " ('humanity', 0.2941015660762787),\n",
       " ('the', 0.2896028757095337),\n",
       " ('species', 0.2877427637577057),\n",
       " ('day', 0.28529858589172363),\n",
       " ('life', 0.2831520736217499),\n",
       " ('scientists', 0.2808951735496521),\n",
       " ('google', 0.28033196926116943),\n",
       " ('sea', 0.27928292751312256),\n",
       " ('literally', 0.2787598967552185),\n",
       " ('surface', 0.278403639793396),\n",
       " ('greatest', 0.27787554264068604),\n",
       " ('hell', 0.2730911076068878),\n",
       " ('climate', 0.27201956510543823),\n",
       " ('lives', 0.2644856870174408),\n",
       " ('animals', 0.26417040824890137),\n",
       " ('evil', 0.26196280121803284),\n",
       " ('mysterious', 0.2591271996498108),\n",
       " ('environment', 0.25714564323425293),\n",
       " ('scum', 0.25315600633621216),\n",
       " ('nation', 0.2524757385253906),\n",
       " ('aliens', 0.25109225511550903),\n",
       " ('independence', 0.24975943565368652),\n",
       " ('america', 0.24947910010814667),\n",
       " ('destroying', 0.24847668409347534),\n",
       " ('place', 0.24837303161621094),\n",
       " ('fathers', 0.24748662114143372),\n",
       " ('sized', 0.24684935808181763),\n",
       " ('shadow', 0.24609217047691345)]"
      ]
     },
     "execution_count": 7,
     "metadata": {},
     "output_type": "execute_result"
    }
   ],
   "source": [
    "m1.most_similar('earth', topn=50)"
   ]
  },
  {
   "cell_type": "code",
   "execution_count": 8,
   "metadata": {},
   "outputs": [
    {
     "data": {
      "text/plain": [
       "[('planet', 0.6582320928573608),\n",
       " ('heaven', 0.4366685748100281),\n",
       " ('humans', 0.38414978981018066),\n",
       " ('mother', 0.3830600082874298),\n",
       " ('god', 0.37863433361053467),\n",
       " ('nasa', 0.37285831570625305),\n",
       " ('nature', 0.37076854705810547),\n",
       " ('happiest', 0.36943674087524414),\n",
       " ('dust', 0.366108775138855),\n",
       " ('world', 0.3646332621574402),\n",
       " ('aliens', 0.364328533411026),\n",
       " ('dance', 0.3249739408493042),\n",
       " ('space', 0.31283432245254517),\n",
       " ('human', 0.31199026107788086),\n",
       " ('greatest', 0.3072046637535095),\n",
       " ('found', 0.3051074743270874),\n",
       " ('🌎', 0.29443633556365967),\n",
       " ('mars', 0.2938433587551117),\n",
       " ('above', 0.29314345121383667),\n",
       " ('the', 0.29308223724365234),\n",
       " ('living', 0.29220685362815857),\n",
       " ('mysterious', 0.2908473014831543),\n",
       " ('jesus', 0.29000988602638245),\n",
       " ('upon', 0.28865545988082886),\n",
       " ('proof', 0.2861965000629425),\n",
       " ('land', 0.28618866205215454),\n",
       " ('flat', 0.28550148010253906),\n",
       " ('lord', 0.28357982635498047),\n",
       " ('shadow', 0.283281534910202),\n",
       " ('sized', 0.2814238667488098),\n",
       " ('alien', 0.28029048442840576),\n",
       " ('science', 0.2785121202468872),\n",
       " ('shall', 0.2780328691005707),\n",
       " ('moon', 0.2722049355506897),\n",
       " ('happy', 0.2720312476158142),\n",
       " ('christ', 0.27061063051223755),\n",
       " ('thing', 0.2639904022216797),\n",
       " ('gods', 0.2619796097278595),\n",
       " ('grace', 0.26113301515579224),\n",
       " ('scum', 0.26059621572494507),\n",
       " ('celebrate', 0.25988757610321045),\n",
       " ('remember', 0.2591289281845093),\n",
       " ('place', 0.2562926709651947),\n",
       " ('alive', 0.2562456727027893),\n",
       " ('angel', 0.2543392777442932),\n",
       " ('beautiful', 0.25214624404907227),\n",
       " ('animals', 0.25149035453796387),\n",
       " ('born', 0.25114524364471436),\n",
       " ('literally', 0.2496684193611145),\n",
       " ('ship', 0.24887877702713013)]"
      ]
     },
     "execution_count": 8,
     "metadata": {},
     "output_type": "execute_result"
    }
   ],
   "source": [
    "m2.most_similar('earth', topn=50)"
   ]
  },
  {
   "cell_type": "code",
   "execution_count": 317,
   "metadata": {},
   "outputs": [],
   "source": [
    "m1_avg = np.array([m1[t] for t, _ in m1.most_similar('trump', topn=50)]).mean(0)"
   ]
  },
  {
   "cell_type": "code",
   "execution_count": 318,
   "metadata": {},
   "outputs": [],
   "source": [
    "m2_avg = np.array([m1[t] for t, _ in m2.most_similar('trump', topn=50)]).mean(0)"
   ]
  },
  {
   "cell_type": "code",
   "execution_count": 320,
   "metadata": {},
   "outputs": [
    {
     "data": {
      "text/plain": [
       "[('he', 0.4565543234348297),\n",
       " ('knows', 0.41218113899230957),\n",
       " ('himself', 0.3997402787208557),\n",
       " ('him', 0.3861508369445801),\n",
       " ('asked', 0.3673762381076813),\n",
       " ('his', 0.36597931385040283),\n",
       " ('said', 0.3444696366786957),\n",
       " ('was', 0.34165677428245544),\n",
       " ('brady', 0.33608150482177734),\n",
       " ('guy', 0.33410316705703735),\n",
       " ('knew', 0.3338080644607544),\n",
       " ('did', 0.3228428065776825),\n",
       " ('wasn', 0.32150840759277344),\n",
       " ('she', 0.3203584849834442),\n",
       " ('told', 0.3135398030281067),\n",
       " ('hasn', 0.299806147813797),\n",
       " ('nobody', 0.2962963581085205),\n",
       " ('jr', 0.29586708545684814),\n",
       " ('client', 0.29453492164611816),\n",
       " ('loves', 0.294242262840271),\n",
       " ('missed', 0.29114487767219543),\n",
       " ('met', 0.2908840775489807),\n",
       " ('someone', 0.29007488489151),\n",
       " ('tells', 0.2887221574783325),\n",
       " ('surprised', 0.28761881589889526),\n",
       " ('gave', 0.2841348946094513),\n",
       " ('stole', 0.2833779752254486),\n",
       " ('saw', 0.28315651416778564),\n",
       " ('flynn', 0.28083711862564087),\n",
       " ('shawn', 0.27943333983421326)]"
      ]
     },
     "execution_count": 320,
     "metadata": {},
     "output_type": "execute_result"
    }
   ],
   "source": [
    "m1.similar_by_vector(m1_avg-m2_avg, topn=30)"
   ]
  },
  {
   "cell_type": "code",
   "execution_count": null,
   "metadata": {},
   "outputs": [],
   "source": []
  }
 ],
 "metadata": {
  "kernelspec": {
   "display_name": "Python 3",
   "language": "python",
   "name": "python3"
  },
  "language_info": {
   "codemirror_mode": {
    "name": "ipython",
    "version": 3
   },
   "file_extension": ".py",
   "mimetype": "text/x-python",
   "name": "python",
   "nbconvert_exporter": "python",
   "pygments_lexer": "ipython3",
   "version": "3.6.2"
  }
 },
 "nbformat": 4,
 "nbformat_minor": 2
}
