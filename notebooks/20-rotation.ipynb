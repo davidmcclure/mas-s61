{
 "cells": [
  {
   "cell_type": "code",
   "execution_count": 33,
   "metadata": {},
   "outputs": [],
   "source": [
    "import numpy as np\n",
    "import pandas as pd\n",
    "\n",
    "from scipy.spatial.distance import cosine\n",
    "from gensim.models.keyedvectors import Vocab, KeyedVectors\n",
    "from tqdm import tqdm_notebook\n",
    "\n",
    "from sources import parse_glove_vocab"
   ]
  },
  {
   "cell_type": "code",
   "execution_count": 6,
   "metadata": {},
   "outputs": [],
   "source": [
    "import matplotlib as mpl\n",
    "import matplotlib.pyplot as plt\n",
    "\n",
    "%matplotlib inline\n",
    "mpl.style.use('bmh')"
   ]
  },
  {
   "cell_type": "code",
   "execution_count": 7,
   "metadata": {},
   "outputs": [],
   "source": [
    "m1 = KeyedVectors.load_word2vec_format('../data/corpora/north-south/new-england.w2v.txt')"
   ]
  },
  {
   "cell_type": "code",
   "execution_count": 8,
   "metadata": {},
   "outputs": [],
   "source": [
    "m2 = KeyedVectors.load_word2vec_format('../data/corpora/north-south/deep-south.w2v.txt')"
   ]
  },
  {
   "cell_type": "code",
   "execution_count": 9,
   "metadata": {},
   "outputs": [],
   "source": [
    "vocab = parse_glove_vocab('../data/corpora/north-south/vocab.txt')"
   ]
  },
  {
   "cell_type": "code",
   "execution_count": 12,
   "metadata": {},
   "outputs": [],
   "source": [
    "m1_m = np.stack([m1[t] for t in vocab])"
   ]
  },
  {
   "cell_type": "code",
   "execution_count": 13,
   "metadata": {},
   "outputs": [],
   "source": [
    "m2_m = np.stack([m2[t] for t in vocab])"
   ]
  },
  {
   "cell_type": "code",
   "execution_count": 14,
   "metadata": {},
   "outputs": [],
   "source": [
    "bv = m1_m - m1_m.mean(0)"
   ]
  },
  {
   "cell_type": "code",
   "execution_count": 15,
   "metadata": {},
   "outputs": [],
   "source": [
    "ov = m2_m - m2_m.mean(0)"
   ]
  },
  {
   "cell_type": "code",
   "execution_count": 16,
   "metadata": {},
   "outputs": [],
   "source": [
    "m = ov.T.dot(bv)"
   ]
  },
  {
   "cell_type": "code",
   "execution_count": 17,
   "metadata": {},
   "outputs": [],
   "source": [
    "u, _, v = np.linalg.svd(m)"
   ]
  },
  {
   "cell_type": "code",
   "execution_count": 18,
   "metadata": {},
   "outputs": [],
   "source": [
    "ortho = u.dot(v)"
   ]
  },
  {
   "cell_type": "code",
   "execution_count": 19,
   "metadata": {},
   "outputs": [],
   "source": [
    "m2_m_rotated = ov.dot(ortho)"
   ]
  },
  {
   "cell_type": "code",
   "execution_count": 29,
   "metadata": {},
   "outputs": [
    {
     "data": {
      "text/plain": [
       "200"
      ]
     },
     "execution_count": 29,
     "metadata": {},
     "output_type": "execute_result"
    }
   ],
   "source": [
    "m2_m_rotated.shape[1]"
   ]
  },
  {
   "cell_type": "code",
   "execution_count": 35,
   "metadata": {},
   "outputs": [],
   "source": [
    "vector_size = m2_m_rotated.shape[1]\n",
    "\n",
    "m2r = KeyedVectors()\n",
    "m2r.vector_size = vector_size\n",
    "m2r.syn0 = np.zeros((len(m2_m_rotated), vector_size))"
   ]
  },
  {
   "cell_type": "code",
   "execution_count": 36,
   "metadata": {},
   "outputs": [],
   "source": [
    "for i, (token, count) in enumerate(vocab.items()):\n",
    "    m2r.syn0[i] = m2_m_rotated[i]\n",
    "    m2r.index2word.append(token)\n",
    "    m2r.vocab[token] = Vocab(index=i, count=count)"
   ]
  },
  {
   "cell_type": "code",
   "execution_count": 37,
   "metadata": {},
   "outputs": [
    {
     "data": {
      "text/plain": [
       "[('dude', 0.6034173965454102),\n",
       " ('bruh', 0.5527576208114624),\n",
       " ('woman', 0.5370033979415894),\n",
       " ('boy', 0.5194164514541626),\n",
       " ('wtf', 0.4986564517021179),\n",
       " ('bro', 0.4967013895511627),\n",
       " ('nigga', 0.49316155910491943),\n",
       " ('damn', 0.4929620623588562),\n",
       " ('smh', 0.46880608797073364),\n",
       " ('lmao', 0.4658861756324768)]"
      ]
     },
     "execution_count": 37,
     "metadata": {},
     "output_type": "execute_result"
    }
   ],
   "source": [
    "m2r.most_similar('man')"
   ]
  },
  {
   "cell_type": "code",
   "execution_count": 38,
   "metadata": {},
   "outputs": [
    {
     "data": {
      "text/plain": [
       "[('dude', 0.5719186067581177),\n",
       " ('bruh', 0.525306224822998),\n",
       " ('woman', 0.509016215801239),\n",
       " ('boy', 0.4833117723464966),\n",
       " ('wtf', 0.4695777893066406),\n",
       " ('bro', 0.46308958530426025),\n",
       " ('nigga', 0.45372098684310913),\n",
       " ('damn', 0.4516459107398987),\n",
       " ('smh', 0.4298434853553772),\n",
       " ('😂😂😂', 0.4285019636154175)]"
      ]
     },
     "execution_count": 38,
     "metadata": {},
     "output_type": "execute_result"
    }
   ],
   "source": [
    "m2.most_similar('man')"
   ]
  },
  {
   "cell_type": "code",
   "execution_count": 51,
   "metadata": {},
   "outputs": [
    {
     "data": {
      "text/plain": [
       "[('rookie', 0.33358442783355713),\n",
       " ('autograph', 0.32332780957221985),\n",
       " ('♡', 0.3129580020904541),\n",
       " ('amo', 0.3115907609462738),\n",
       " ('vou', 0.3086968660354614),\n",
       " ('nem', 0.30774611234664917),\n",
       " ('mint', 0.30079948902130127),\n",
       " ('❤❤', 0.2997928559780121),\n",
       " ('brandon', 0.2959497272968292),\n",
       " ('express', 0.291858971118927)]"
      ]
     },
     "execution_count": 51,
     "metadata": {},
     "output_type": "execute_result"
    }
   ],
   "source": [
    "m1.similar_by_vector(m1['liberal'] - m2r['liberal'])"
   ]
  },
  {
   "cell_type": "code",
   "execution_count": null,
   "metadata": {},
   "outputs": [],
   "source": []
  }
 ],
 "metadata": {
  "kernelspec": {
   "display_name": "Python 3",
   "language": "python",
   "name": "python3"
  },
  "language_info": {
   "codemirror_mode": {
    "name": "ipython",
    "version": 3
   },
   "file_extension": ".py",
   "mimetype": "text/x-python",
   "name": "python",
   "nbconvert_exporter": "python",
   "pygments_lexer": "ipython3",
   "version": "3.6.2"
  }
 },
 "nbformat": 4,
 "nbformat_minor": 2
}
