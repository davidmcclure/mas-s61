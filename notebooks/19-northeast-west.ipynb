{
 "cells": [
  {
   "cell_type": "code",
   "execution_count": 1,
   "metadata": {},
   "outputs": [],
   "source": [
    "import numpy as np\n",
    "import pandas as pd\n",
    "\n",
    "from gensim.models import KeyedVectors\n",
    "from scipy.spatial.distance import cosine\n",
    "from tqdm import tqdm_notebook\n",
    "\n",
    "from sources import parse_glove_vocab"
   ]
  },
  {
   "cell_type": "code",
   "execution_count": 2,
   "metadata": {},
   "outputs": [],
   "source": [
    "import matplotlib as mpl\n",
    "import matplotlib.pyplot as plt\n",
    "\n",
    "%matplotlib inline\n",
    "mpl.style.use('bmh')"
   ]
  },
  {
   "cell_type": "code",
   "execution_count": 3,
   "metadata": {},
   "outputs": [],
   "source": [
    "m1 = KeyedVectors.load_word2vec_format('../data/corpora/regions/northeast.w2v.txt')"
   ]
  },
  {
   "cell_type": "code",
   "execution_count": 19,
   "metadata": {},
   "outputs": [],
   "source": [
    "m2 = KeyedVectors.load_word2vec_format('../data/corpora/regions/west.w2v.txt')"
   ]
  },
  {
   "cell_type": "code",
   "execution_count": 20,
   "metadata": {},
   "outputs": [
    {
     "data": {
      "text/plain": [
       "[('planet', 0.690495491027832),\n",
       " ('world', 0.45149412751197815),\n",
       " ('humans', 0.42681193351745605),\n",
       " ('universe', 0.4267774820327759),\n",
       " ('nasa', 0.4212183654308319),\n",
       " ('mars', 0.41061821579933167),\n",
       " ('nature', 0.3988841772079468),\n",
       " ('flat', 0.3964163362979889),\n",
       " ('🌎', 0.3931402564048767),\n",
       " ('alien', 0.3761330842971802),\n",
       " ('aliens', 0.3748101592063904),\n",
       " ('beings', 0.36514487862586975),\n",
       " ('heaven', 0.36490702629089355),\n",
       " ('creatures', 0.35865694284439087),\n",
       " ('moon', 0.3538973033428192),\n",
       " ('existence', 0.33656996488571167),\n",
       " ('exist', 0.3312588334083557),\n",
       " ('god', 0.3269472122192383),\n",
       " ('science', 0.32379549741744995),\n",
       " ('happiest', 0.32316672801971436)]"
      ]
     },
     "execution_count": 20,
     "metadata": {},
     "output_type": "execute_result"
    }
   ],
   "source": [
    "m1.most_similar('earth', topn=20)"
   ]
  },
  {
   "cell_type": "code",
   "execution_count": 21,
   "metadata": {},
   "outputs": [
    {
     "data": {
      "text/plain": [
       "[('planet', 0.604150652885437),\n",
       " ('nasa', 0.4618653357028961),\n",
       " ('happiest', 0.43611377477645874),\n",
       " ('world', 0.42698001861572266),\n",
       " ('heaven', 0.42271146178245544),\n",
       " ('aliens', 0.4211609959602356),\n",
       " ('mars', 0.4162817597389221),\n",
       " ('🌎', 0.4160650074481964),\n",
       " ('beings', 0.4086928963661194),\n",
       " ('nature', 0.39674466848373413),\n",
       " ('humans', 0.38687264919281006),\n",
       " ('universe', 0.37297430634498596),\n",
       " ('moon', 0.36792293190956116),\n",
       " ('atmosphere', 0.35663923621177673),\n",
       " ('alien', 0.34907543659210205),\n",
       " ('god', 0.34403759241104126),\n",
       " ('science', 0.34125030040740967),\n",
       " ('existence', 0.340227335691452),\n",
       " ('scientists', 0.32537758350372314),\n",
       " ('exist', 0.32372450828552246)]"
      ]
     },
     "execution_count": 21,
     "metadata": {},
     "output_type": "execute_result"
    }
   ],
   "source": [
    "m2.most_similar('earth', topn=20)"
   ]
  },
  {
   "cell_type": "code",
   "execution_count": 96,
   "metadata": {},
   "outputs": [],
   "source": [
    "def concept_diff(m1, m2, seed, depth=50, topn=30):\n",
    "    \n",
    "    m1_sim = [t for t, _ in m1.most_similar(seed, topn=depth)]\n",
    "    m2_sim = [t for t, _ in m2.most_similar(seed, topn=depth)]\n",
    "    \n",
    "    m1_avg = np.array([m1[t] for t in m1_sim]).mean(0)\n",
    "    m2_avg = np.array([m1[t] for t in m2_sim]).mean(0)\n",
    "    \n",
    "    return m1.similar_by_vector(m1_avg-m2_avg, topn=topn)"
   ]
  },
  {
   "cell_type": "code",
   "execution_count": 97,
   "metadata": {},
   "outputs": [],
   "source": [
    "def north(seed):\n",
    "    return concept_diff(m1, m2, seed)"
   ]
  },
  {
   "cell_type": "code",
   "execution_count": 98,
   "metadata": {},
   "outputs": [],
   "source": [
    "def west(seed):\n",
    "    return concept_diff(m2, m1, seed)"
   ]
  },
  {
   "cell_type": "code",
   "execution_count": 105,
   "metadata": {
    "scrolled": false
   },
   "outputs": [
    {
     "data": {
      "text/plain": [
       "[('reveals', 0.36275801062583923),\n",
       " ('industry', 0.30881744623184204),\n",
       " ('feature', 0.3047802448272705),\n",
       " ('document', 0.29537874460220337),\n",
       " ('google', 0.2897847890853882),\n",
       " ('search', 0.2826789617538452),\n",
       " ('users', 0.2806784510612488),\n",
       " ('report', 0.27290117740631104),\n",
       " ('largest', 0.27096864581108093),\n",
       " ('allows', 0.26808664202690125),\n",
       " ('insider', 0.2626686692237854),\n",
       " ('explained', 0.26097261905670166),\n",
       " ('surveillance', 0.2536519765853882),\n",
       " ('companies', 0.24881863594055176),\n",
       " ('highlights', 0.2480195164680481),\n",
       " ('features', 0.24758067727088928),\n",
       " ('history', 0.24740788340568542),\n",
       " ('spotlight', 0.2470731884241104),\n",
       " ('honors', 0.24666543304920197),\n",
       " ('facebook', 0.2461358606815338),\n",
       " ('stories', 0.24385713040828705),\n",
       " ('leaked', 0.2431403398513794),\n",
       " ('exclusive', 0.24285122752189636),\n",
       " ('map', 0.241590216755867),\n",
       " ('infographic', 0.24089494347572327),\n",
       " ('according', 0.2403336763381958),\n",
       " ('selected', 0.23973076045513153),\n",
       " ('exec', 0.23928532004356384),\n",
       " ('launches', 0.23918327689170837),\n",
       " ('lifetime', 0.23890134692192078)]"
      ]
     },
     "execution_count": 105,
     "metadata": {},
     "output_type": "execute_result"
    }
   ],
   "source": [
    "token = 'memories'\n",
    "north(token)"
   ]
  },
  {
   "cell_type": "code",
   "execution_count": 106,
   "metadata": {},
   "outputs": [
    {
     "data": {
      "text/plain": [
       "[('awww', 0.6390535235404968),\n",
       " ('aww', 0.6155736446380615),\n",
       " ('bby', 0.6132889986038208),\n",
       " ('awwww', 0.6097736358642578),\n",
       " ('aw', 0.5771084427833557),\n",
       " ('😘😘', 0.5452617406845093),\n",
       " ('😘', 0.5419496893882751),\n",
       " ('😘😘😘', 0.5250160694122314),\n",
       " ('💕', 0.5246809720993042),\n",
       " ('ily', 0.5228071212768555),\n",
       " ('sis', 0.5146504640579224),\n",
       " ('💕💕', 0.5104515552520752),\n",
       " ('💞', 0.5060237050056458),\n",
       " ('💖', 0.5051789879798889),\n",
       " ('ahhh', 0.49821737408638),\n",
       " ('😚', 0.4979534149169922),\n",
       " ('☺', 0.49489375948905945),\n",
       " ('💕💕💕', 0.49404066801071167),\n",
       " ('💓', 0.49381452798843384),\n",
       " ('💜', 0.48939692974090576),\n",
       " ('❤❤', 0.48870134353637695),\n",
       " ('sweetie', 0.48577821254730225),\n",
       " ('💗', 0.48352888226509094),\n",
       " ('❤❤❤', 0.4802273213863373),\n",
       " ('😍😍', 0.47827261686325073),\n",
       " ('😍😍😍', 0.4772385358810425),\n",
       " ('❤', 0.47641900181770325),\n",
       " ('😻', 0.47278863191604614),\n",
       " ('😍', 0.4721750020980835),\n",
       " ('darling', 0.47158902883529663)]"
      ]
     },
     "execution_count": 106,
     "metadata": {},
     "output_type": "execute_result"
    }
   ],
   "source": [
    "west(token)"
   ]
  },
  {
   "cell_type": "code",
   "execution_count": null,
   "metadata": {},
   "outputs": [],
   "source": []
  }
 ],
 "metadata": {
  "kernelspec": {
   "display_name": "Python 3",
   "language": "python",
   "name": "python3"
  },
  "language_info": {
   "codemirror_mode": {
    "name": "ipython",
    "version": 3
   },
   "file_extension": ".py",
   "mimetype": "text/x-python",
   "name": "python",
   "nbconvert_exporter": "python",
   "pygments_lexer": "ipython3",
   "version": "3.6.2"
  }
 },
 "nbformat": 4,
 "nbformat_minor": 2
}
