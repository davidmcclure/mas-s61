{
 "cells": [
  {
   "cell_type": "code",
   "execution_count": 1,
   "metadata": {},
   "outputs": [],
   "source": [
    "import numpy as np\n",
    "import pandas as pd\n",
    "\n",
    "from gensim.models import KeyedVectors\n",
    "from scipy.spatial.distance import cosine\n",
    "from tqdm import tqdm_notebook\n",
    "\n",
    "from sources import parse_glove_vocab"
   ]
  },
  {
   "cell_type": "code",
   "execution_count": 2,
   "metadata": {},
   "outputs": [],
   "source": [
    "import matplotlib as mpl\n",
    "import matplotlib.pyplot as plt\n",
    "\n",
    "%matplotlib inline\n",
    "mpl.style.use('bmh')"
   ]
  },
  {
   "cell_type": "code",
   "execution_count": 3,
   "metadata": {},
   "outputs": [],
   "source": [
    "m1 = KeyedVectors.load_word2vec_format('../data/corpora/north-south/new-england.w2v.txt')"
   ]
  },
  {
   "cell_type": "code",
   "execution_count": 4,
   "metadata": {},
   "outputs": [],
   "source": [
    "m2 = KeyedVectors.load_word2vec_format('../data/corpora/north-south/deep-south.w2v.txt')"
   ]
  },
  {
   "cell_type": "code",
   "execution_count": 5,
   "metadata": {},
   "outputs": [],
   "source": [
    "combined = KeyedVectors.load_word2vec_format('../data/corpora/north-south/combined.w2v.txt')"
   ]
  },
  {
   "cell_type": "code",
   "execution_count": 6,
   "metadata": {},
   "outputs": [],
   "source": [
    "vocab = parse_glove_vocab('../data/corpora/north-south/vocab.txt')"
   ]
  },
  {
   "cell_type": "code",
   "execution_count": 43,
   "metadata": {},
   "outputs": [],
   "source": [
    "def concept_diff(m1, m2, seed, depth=50, topn=20):\n",
    "    \n",
    "    m1_sim = [t for t, _ in m1.most_similar(seed, topn=depth)]\n",
    "    m2_sim = [t for t, _ in m2.most_similar(seed, topn=depth)]\n",
    "    \n",
    "    m1_avg = np.array([combined[t] for t in m1_sim]).mean(0)\n",
    "    m2_avg = np.array([combined[t] for t in m2_sim]).mean(0)\n",
    "    \n",
    "    return combined.similar_by_vector(m1_avg-m2_avg, topn=topn)"
   ]
  },
  {
   "cell_type": "code",
   "execution_count": 44,
   "metadata": {},
   "outputs": [],
   "source": [
    "def north(seed, *args, **kwargs):\n",
    "    return concept_diff(m1, m2, seed, *args, **kwargs)"
   ]
  },
  {
   "cell_type": "code",
   "execution_count": 45,
   "metadata": {},
   "outputs": [],
   "source": [
    "def south(seed, *args, **kwargs):\n",
    "    return concept_diff(m2, m1, seed, *args, **kwargs)"
   ]
  },
  {
   "cell_type": "code",
   "execution_count": 46,
   "metadata": {},
   "outputs": [],
   "source": [
    "def compare(token, *args, **kwargs):\n",
    "    for t, _ in north(token, *args, **kwargs):\n",
    "        print(t)\n",
    "    print('\\n')\n",
    "    for t, _ in south(token, *args, **kwargs):\n",
    "        print(t)"
   ]
  },
  {
   "cell_type": "code",
   "execution_count": 71,
   "metadata": {},
   "outputs": [
    {
     "name": "stdout",
     "output_type": "stream",
     "text": [
      "masked\n",
      "arrest\n",
      "allegedly\n",
      "police\n",
      "arrested\n",
      "accused\n",
      "alleged\n",
      "officers\n",
      "records\n",
      "authorities\n",
      "reportedly\n",
      "seeks\n",
      "inmates\n",
      "deaths\n",
      "أعوذ\n",
      "investigating\n",
      "إني\n",
      "cops\n",
      "captured\n",
      "targeted\n",
      "\n",
      "\n",
      "lmao\n",
      "lmaoo\n",
      "lmfao\n",
      "lol\n",
      "😂\n",
      "😂😂\n",
      "lmaooo\n",
      "😂😂😂\n",
      "😂😂😂😂\n",
      "😭😭\n",
      "😭😭😭\n",
      "😭\n",
      "bruh\n",
      "lmaoooo\n",
      "tho\n",
      "nah\n",
      "😂😂😂😂😂\n",
      "lmfaooo\n",
      "lmfaoo\n",
      "😂😭\n"
     ]
    }
   ],
   "source": [
    "compare('man')"
   ]
  },
  {
   "cell_type": "code",
   "execution_count": 26,
   "metadata": {},
   "outputs": [
    {
     "name": "stdout",
     "output_type": "stream",
     "text": [
      "economic\n",
      "environment\n",
      "policies\n",
      "destroying\n",
      "climate\n",
      "environmental\n",
      "scientists\n",
      "infrastructure\n",
      "careers\n",
      "epa\n",
      "affects\n",
      "threaten\n",
      "political\n",
      "managing\n",
      "destroy\n",
      "economy\n",
      "solve\n",
      "networks\n",
      "threatens\n",
      "communities\n",
      "\n",
      "\n",
      "lord\n",
      "jesus\n",
      "grace\n",
      "sweet\n",
      "christ\n",
      "boy\n",
      "mama\n",
      "shall\n",
      "praise\n",
      "god\n",
      "love\n",
      "brother\n",
      "heaven\n",
      "tune\n",
      "😍\n",
      "glory\n",
      "blessed\n",
      "baby\n",
      "shawn\n",
      "i\n"
     ]
    }
   ],
   "source": [
    "compare('earth')"
   ]
  },
  {
   "cell_type": "code",
   "execution_count": 27,
   "metadata": {},
   "outputs": [
    {
     "name": "stdout",
     "output_type": "stream",
     "text": [
      "idiots\n",
      "idiot\n",
      "stupid\n",
      "morons\n",
      "moron\n",
      "dumbass\n",
      "ignorant\n",
      "dumb\n",
      "assholes\n",
      "asshole\n",
      "smh\n",
      "clueless\n",
      "supporters\n",
      "sir\n",
      "asses\n",
      "kidding\n",
      "fool\n",
      "delusional\n",
      "bunch\n",
      "fuckin\n",
      "\n",
      "\n",
      "islamic\n",
      "radical\n",
      "egypt\n",
      "jewish\n",
      "divine\n",
      "terrorism\n",
      "israel\n",
      "romance\n",
      "cultural\n",
      "elements\n",
      "islam\n",
      "meets\n",
      "catholic\n",
      "initiative\n",
      "developed\n",
      "collaboration\n",
      "pakistan\n",
      "lover\n",
      "isis\n",
      "weapon\n"
     ]
    }
   ],
   "source": [
    "compare('nazi')"
   ]
  },
  {
   "cell_type": "code",
   "execution_count": 28,
   "metadata": {},
   "outputs": [
    {
     "name": "stdout",
     "output_type": "stream",
     "text": [
      "establishment\n",
      "politician\n",
      "dem\n",
      "politicians\n",
      "racists\n",
      "republican\n",
      "roy\n",
      "democratic\n",
      "anti\n",
      "democrat\n",
      "moore\n",
      "uncle\n",
      "corrupt\n",
      "swamp\n",
      "blacks\n",
      "dc\n",
      "mt\n",
      "reps\n",
      "senator\n",
      "candidate\n",
      "\n",
      "\n",
      "msnbc\n",
      "cnn\n",
      "narrative\n",
      "nbc\n",
      "channel\n",
      "news\n",
      "update\n",
      "briefing\n",
      "espn\n",
      "wednesday\n",
      "unknown\n",
      "watch\n",
      "train\n",
      "story\n",
      "iphone\n",
      "wrap\n",
      "edge\n",
      "buzzfeed\n",
      "vlog\n",
      "twist\n"
     ]
    }
   ],
   "source": [
    "compare('liberal')"
   ]
  },
  {
   "cell_type": "code",
   "execution_count": 30,
   "metadata": {},
   "outputs": [
    {
     "name": "stdout",
     "output_type": "stream",
     "text": [
      "cheated\n",
      "hacked\n",
      "murdered\n",
      "raped\n",
      "exposed\n",
      "robbed\n",
      "cheating\n",
      "gettin\n",
      "alleged\n",
      "got\n",
      "married\n",
      "stabbed\n",
      "seth\n",
      "wives\n",
      "ethan\n",
      "amanda\n",
      "admitted\n",
      "deleted\n",
      "allegedly\n",
      "lied\n",
      "\n",
      "\n",
      "congress\n",
      "china\n",
      "tillerson\n",
      "council\n",
      "budget\n",
      "agenda\n",
      "policy\n",
      "sessions\n",
      "environment\n",
      "press\n",
      "president\n",
      "oppose\n",
      "toward\n",
      "senate\n",
      "conference\n",
      "leadership\n",
      "america\n",
      "education\n",
      "moving\n",
      "session\n"
     ]
    }
   ],
   "source": [
    "compare('russia')"
   ]
  },
  {
   "cell_type": "code",
   "execution_count": 31,
   "metadata": {},
   "outputs": [
    {
     "name": "stdout",
     "output_type": "stream",
     "text": [
      "😭😭\n",
      "ugh\n",
      "😭\n",
      "dang\n",
      "😭😭😭\n",
      "damn\n",
      "omg\n",
      "😂😂😂😂\n",
      "😂😂😂\n",
      "wtf\n",
      "lol\n",
      "lmao\n",
      "😂😂\n",
      "bruh\n",
      "lmfao\n",
      "😑\n",
      "oh\n",
      "fucking\n",
      "😭😭😭😭\n",
      "gosh\n",
      "\n",
      "\n",
      "given\n",
      "shall\n",
      "whom\n",
      "sacrifice\n",
      "ability\n",
      "serve\n",
      "therefore\n",
      "seek\n",
      "willing\n",
      "desire\n",
      "overcome\n",
      "others\n",
      "faithful\n",
      "among\n",
      "receive\n",
      "honor\n",
      "nor\n",
      "circumstances\n",
      "fear\n",
      "understanding\n"
     ]
    }
   ],
   "source": [
    "compare('god')"
   ]
  },
  {
   "cell_type": "code",
   "execution_count": 32,
   "metadata": {},
   "outputs": [
    {
     "name": "stdout",
     "output_type": "stream",
     "text": [
      "searching\n",
      "primary\n",
      "select\n",
      "voters\n",
      "probe\n",
      "explosion\n",
      "listings\n",
      "interior\n",
      "northern\n",
      "mplus\n",
      "stores\n",
      "buildings\n",
      "steam\n",
      "investigating\n",
      "sale\n",
      "residents\n",
      "elementary\n",
      "uk\n",
      "supporters\n",
      "homes\n",
      "\n",
      "\n",
      "pos\n",
      "traitor\n",
      "hypocrite\n",
      "liar\n",
      "lying\n",
      "moron\n",
      "loser\n",
      "disgusting\n",
      "disgrace\n",
      "shame\n",
      "asshole\n",
      "aaron\n",
      "a\n",
      "bill\n",
      "coward\n",
      "treason\n",
      "idiot\n",
      "bullshit\n",
      "goat\n",
      "jake\n"
     ]
    }
   ],
   "source": [
    "compare('clinton')"
   ]
  },
  {
   "cell_type": "code",
   "execution_count": 37,
   "metadata": {},
   "outputs": [
    {
     "name": "stdout",
     "output_type": "stream",
     "text": [
      "devices\n",
      "phones\n",
      "are\n",
      "accountable\n",
      "voters\n",
      "customers\n",
      "people\n",
      "consumers\n",
      "many\n",
      "supported\n",
      "foreign\n",
      "aware\n",
      "millennials\n",
      "considering\n",
      "aren\n",
      "ppl\n",
      "clients\n",
      "apps\n",
      "responsible\n",
      "companies\n",
      "\n",
      "\n",
      "chest\n",
      "throat\n",
      "punch\n",
      "finger\n",
      "catch\n",
      "deck\n",
      "throws\n",
      "balls\n",
      "cage\n",
      "td\n",
      "breath\n",
      "touchdown\n",
      "rodgers\n",
      "bird\n",
      "fish\n",
      "dragon\n",
      "toe\n",
      "upper\n",
      "superman\n",
      "sweat\n"
     ]
    }
   ],
   "source": [
    "compare('hands')"
   ]
  },
  {
   "cell_type": "code",
   "execution_count": 38,
   "metadata": {},
   "outputs": [
    {
     "name": "stdout",
     "output_type": "stream",
     "text": [
      "beautiful\n",
      "blessed\n",
      "gorgeous\n",
      "woman\n",
      "classy\n",
      "stunning\n",
      "powerful\n",
      "lovely\n",
      "faithful\n",
      "inspirational\n",
      "truly\n",
      "attractive\n",
      "divine\n",
      "strong\n",
      "chic\n",
      "necklace\n",
      "pretty\n",
      "sexy\n",
      "inspiration\n",
      "thankful\n",
      "\n",
      "\n",
      "kids\n",
      "babies\n",
      "parents\n",
      "illegals\n",
      "medicare\n",
      "children\n",
      "meds\n",
      "adults\n",
      "drugs\n",
      "weren\n",
      "cartoons\n",
      "medicaid\n",
      "recall\n",
      "pets\n",
      "olds\n",
      "gen\n",
      "vets\n",
      "allergies\n",
      "programs\n",
      "jokes\n"
     ]
    }
   ],
   "source": [
    "compare('mother')"
   ]
  },
  {
   "cell_type": "code",
   "execution_count": 55,
   "metadata": {},
   "outputs": [
    {
     "name": "stdout",
     "output_type": "stream",
     "text": [
      "corrupt\n",
      "lying\n",
      "dems\n",
      "traitor\n",
      "democrats\n",
      "potus\n",
      "democrat\n",
      "msm\n",
      "gop\n",
      "he\n",
      "politicians\n",
      "elected\n",
      "djt\n",
      "idiot\n",
      "republican\n",
      "bs\n",
      "obama\n",
      "disgrace\n",
      "hrc\n",
      "asshole\n",
      "\n",
      "\n",
      "wordpress\n",
      "website\n",
      "tools\n",
      "photography\n",
      "seo\n",
      "instagram\n",
      "tips\n",
      "apps\n",
      "online\n",
      "design\n",
      "pinterest\n",
      "app\n",
      "analytics\n",
      "sites\n",
      "blog\n",
      "web\n",
      "pages\n",
      "page\n",
      "site\n",
      "linkedin\n"
     ]
    }
   ],
   "source": [
    "compare('media', depth=50)"
   ]
  },
  {
   "cell_type": "code",
   "execution_count": 68,
   "metadata": {},
   "outputs": [
    {
     "name": "stdout",
     "output_type": "stream",
     "text": [
      "comics\n",
      "horror\n",
      "film\n",
      "western\n",
      "wood\n",
      "wars\n",
      "movies\n",
      "marvel\n",
      "french\n",
      "series\n",
      "flash\n",
      "box\n",
      "superhero\n",
      "toy\n",
      "movie\n",
      "discussion\n",
      "art\n",
      "sci\n",
      "photography\n",
      "films\n",
      "\n",
      "\n",
      "approval\n",
      "administration\n",
      "taxpayers\n",
      "states\n",
      "united\n",
      "irs\n",
      "سبحانك\n",
      "law\n",
      "illegal\n",
      "therefore\n",
      "taxes\n",
      "feds\n",
      "president\n",
      "government\n",
      "mexico\n",
      "federal\n",
      "trusted\n",
      "graduated\n",
      "tax\n",
      "seeking\n"
     ]
    }
   ],
   "source": [
    "compare('american', depth=50)"
   ]
  },
  {
   "cell_type": "code",
   "execution_count": 69,
   "metadata": {},
   "outputs": [
    {
     "name": "stdout",
     "output_type": "stream",
     "text": [
      "estate\n",
      "sales\n",
      "market\n",
      "listings\n",
      "automation\n",
      "businesses\n",
      "rental\n",
      "cars\n",
      "marketing\n",
      "homes\n",
      "property\n",
      "virtual\n",
      "luxury\n",
      "mls\n",
      "enterprise\n",
      "platform\n",
      "analytics\n",
      "properties\n",
      "premium\n",
      "بسم\n",
      "\n",
      "\n",
      "sleep\n",
      "nap\n",
      "😴\n",
      "woke\n",
      "asleep\n",
      "wake\n",
      "bed\n",
      "goodnight\n",
      "sleepy\n",
      "lay\n",
      "knowing\n",
      "up\n",
      "waking\n",
      "hungry\n",
      "suppose\n",
      "awake\n",
      "😌\n",
      "rest\n",
      "then\n",
      "feeling\n"
     ]
    }
   ],
   "source": [
    "compare('home', depth=50)"
   ]
  },
  {
   "cell_type": "code",
   "execution_count": null,
   "metadata": {},
   "outputs": [],
   "source": []
  }
 ],
 "metadata": {
  "kernelspec": {
   "display_name": "Python 3",
   "language": "python",
   "name": "python3"
  },
  "language_info": {
   "codemirror_mode": {
    "name": "ipython",
    "version": 3
   },
   "file_extension": ".py",
   "mimetype": "text/x-python",
   "name": "python",
   "nbconvert_exporter": "python",
   "pygments_lexer": "ipython3",
   "version": "3.6.2"
  }
 },
 "nbformat": 4,
 "nbformat_minor": 2
}
