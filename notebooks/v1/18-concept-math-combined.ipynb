{
 "cells": [
  {
   "cell_type": "code",
   "execution_count": 1,
   "metadata": {},
   "outputs": [],
   "source": [
    "import numpy as np\n",
    "import pandas as pd\n",
    "\n",
    "from gensim.models import KeyedVectors\n",
    "from scipy.spatial.distance import cosine\n",
    "from tqdm import tqdm_notebook\n",
    "\n",
    "from sources import parse_glove_vocab"
   ]
  },
  {
   "cell_type": "code",
   "execution_count": 2,
   "metadata": {},
   "outputs": [],
   "source": [
    "import matplotlib as mpl\n",
    "import matplotlib.pyplot as plt\n",
    "\n",
    "%matplotlib inline\n",
    "mpl.style.use('bmh')"
   ]
  },
  {
   "cell_type": "code",
   "execution_count": 4,
   "metadata": {},
   "outputs": [],
   "source": [
    "m1 = KeyedVectors.load_word2vec_format('../data/corpora/north-south/new-england.w2v.txt')"
   ]
  },
  {
   "cell_type": "code",
   "execution_count": 5,
   "metadata": {},
   "outputs": [],
   "source": [
    "m2 = KeyedVectors.load_word2vec_format('../data/corpora/north-south/deep-south.w2v.txt')"
   ]
  },
  {
   "cell_type": "code",
   "execution_count": 6,
   "metadata": {},
   "outputs": [],
   "source": [
    "combined = KeyedVectors.load_word2vec_format('../data/corpora/north-south/combined.w2v.txt')"
   ]
  },
  {
   "cell_type": "code",
   "execution_count": 7,
   "metadata": {},
   "outputs": [],
   "source": [
    "vocab = parse_glove_vocab('../data/corpora/north-south/vocab.txt')"
   ]
  },
  {
   "cell_type": "code",
   "execution_count": 450,
   "metadata": {},
   "outputs": [
    {
     "data": {
      "text/plain": [
       "[('hillary', 0.872848391532898),\n",
       " ('hrc', 0.738634467124939),\n",
       " ('obama', 0.6157892346382141),\n",
       " ('dnc', 0.5850938558578491),\n",
       " ('bush', 0.5727822184562683),\n",
       " ('lynch', 0.5668103098869324),\n",
       " ('comey', 0.5617506504058838),\n",
       " ('russia', 0.551996111869812),\n",
       " ('sanders', 0.5402530431747437),\n",
       " ('bernie', 0.5353250503540039),\n",
       " ('fbi', 0.5284608006477356),\n",
       " ('campaign', 0.5271608829498291),\n",
       " ('emails', 0.5074602365493774),\n",
       " ('election', 0.5070749521255493),\n",
       " ('russians', 0.49625164270401),\n",
       " ('investigation', 0.49359989166259766),\n",
       " ('chelsea', 0.49229925870895386),\n",
       " ('trump', 0.4837045967578888),\n",
       " ('democrats', 0.48069459199905396),\n",
       " ('crooked', 0.46750450134277344),\n",
       " ('donald', 0.4618498980998993),\n",
       " ('soros', 0.4610463082790375),\n",
       " ('dems', 0.4570835828781128),\n",
       " ('supporters', 0.44571083784103394),\n",
       " ('corruption', 0.445248007774353),\n",
       " ('foundation', 0.4442990720272064),\n",
       " ('collusion', 0.43900346755981445),\n",
       " ('investigate', 0.43104639649391174),\n",
       " ('djt', 0.42890894412994385),\n",
       " ('voters', 0.4249202311038971),\n",
       " ('doj', 0.417336106300354),\n",
       " ('cnn', 0.41601860523223877),\n",
       " ('gop', 0.41335365176200867),\n",
       " ('scandal', 0.41311004757881165),\n",
       " ('putin', 0.41303324699401855),\n",
       " ('democrat', 0.4127062261104584),\n",
       " ('administration', 0.40954655408859253),\n",
       " ('russian', 0.4043181240558624),\n",
       " ('mccain', 0.4033307135105133),\n",
       " ('warren', 0.4016439914703369),\n",
       " ('corrupt', 0.4014778733253479),\n",
       " ('presidency', 0.401324987411499),\n",
       " ('admin', 0.3998456299304962),\n",
       " ('barack', 0.3967518210411072),\n",
       " ('wikileaks', 0.39659759402275085),\n",
       " ('probe', 0.3960351347923279),\n",
       " ('president', 0.3950693905353546),\n",
       " ('investigating', 0.3835245370864868),\n",
       " ('flynn', 0.3828810155391693),\n",
       " ('nixon', 0.3828105926513672)]"
      ]
     },
     "execution_count": 450,
     "metadata": {},
     "output_type": "execute_result"
    }
   ],
   "source": [
    "m1.most_similar('clinton', topn=50)"
   ]
  },
  {
   "cell_type": "code",
   "execution_count": 451,
   "metadata": {},
   "outputs": [
    {
     "data": {
      "text/plain": [
       "[('hillary', 0.8677021265029907),\n",
       " ('hrc', 0.692702054977417),\n",
       " ('obama', 0.6362740993499756),\n",
       " ('lynch', 0.5855323076248169),\n",
       " ('bush', 0.5737659931182861),\n",
       " ('comey', 0.5527466535568237),\n",
       " ('dnc', 0.5266940593719482),\n",
       " ('bernie', 0.5158839225769043),\n",
       " ('russia', 0.5033775568008423),\n",
       " ('trump', 0.49705690145492554),\n",
       " ('foundation', 0.49584123492240906),\n",
       " ('emails', 0.49530476331710815),\n",
       " ('fbi', 0.4947221875190735),\n",
       " ('sanders', 0.4731174111366272),\n",
       " ('chelsea', 0.4705349802970886),\n",
       " ('soros', 0.46832138299942017),\n",
       " ('scandal', 0.4634433388710022),\n",
       " ('wikileaks', 0.4606429934501648),\n",
       " ('pelosi', 0.4545612633228302),\n",
       " ('democrats', 0.44992542266845703),\n",
       " ('admin', 0.44540145993232727),\n",
       " ('campaign', 0.4451872706413269),\n",
       " ('collusion', 0.4429398477077484),\n",
       " ('bill', 0.44080936908721924),\n",
       " ('investigation', 0.4387202858924866),\n",
       " ('dems', 0.4365312159061432),\n",
       " ('president', 0.4329547584056854),\n",
       " ('presidency', 0.43273335695266724),\n",
       " ('election', 0.4311751425266266),\n",
       " ('corruption', 0.4293054938316345),\n",
       " ('russian', 0.4189493656158447),\n",
       " ('cnn', 0.41388943791389465),\n",
       " ('administration', 0.4097382128238678),\n",
       " ('mccain', 0.40449023246765137),\n",
       " ('barack', 0.40423163771629333),\n",
       " ('gop', 0.4039784073829651),\n",
       " ('lawyer', 0.4039182960987091),\n",
       " ('crooked', 0.4039159119129181),\n",
       " ('doj', 0.4008263647556305),\n",
       " ('potus', 0.4008096754550934),\n",
       " ('flynn', 0.3988249897956848),\n",
       " ('putin', 0.3965194523334503),\n",
       " ('traitor', 0.395086407661438),\n",
       " ('djt', 0.394417405128479),\n",
       " ('fraud', 0.3934279680252075),\n",
       " ('donald', 0.3933064639568329),\n",
       " ('democrat', 0.39289718866348267),\n",
       " ('investigate', 0.3909361958503723),\n",
       " ('msm', 0.38966354727745056),\n",
       " ('treason', 0.38814297318458557)]"
      ]
     },
     "execution_count": 451,
     "metadata": {},
     "output_type": "execute_result"
    }
   ],
   "source": [
    "m2.most_similar('clinton', topn=50)"
   ]
  },
  {
   "cell_type": "code",
   "execution_count": 459,
   "metadata": {},
   "outputs": [],
   "source": [
    "def concept_diff(m1, m2, seed, depth=50, topn=30):\n",
    "    \n",
    "    m1_sim = [t for t, _ in m1.most_similar(seed, topn=depth)]\n",
    "    m2_sim = [t for t, _ in m2.most_similar(seed, topn=depth)]\n",
    "    \n",
    "    m1_avg = np.array([combined[t] for t in m1_sim]).mean(0)\n",
    "    m2_avg = np.array([combined[t] for t in m2_sim]).mean(0)\n",
    "    \n",
    "    return combined.similar_by_vector(m1_avg-m2_avg, topn=topn)"
   ]
  },
  {
   "cell_type": "code",
   "execution_count": 460,
   "metadata": {},
   "outputs": [],
   "source": [
    "def north(seed):\n",
    "    return concept_diff(m1, m2, seed)"
   ]
  },
  {
   "cell_type": "code",
   "execution_count": 461,
   "metadata": {},
   "outputs": [],
   "source": [
    "def south(seed):\n",
    "    return concept_diff(m2, m1, seed)"
   ]
  },
  {
   "cell_type": "code",
   "execution_count": 462,
   "metadata": {
    "scrolled": false
   },
   "outputs": [
    {
     "data": {
      "text/plain": [
       "[('reduce', 0.5296963453292847),\n",
       " ('impact', 0.4177272915840149),\n",
       " ('managing', 0.40812787413597107),\n",
       " ('improve', 0.38893210887908936),\n",
       " ('increase', 0.38399115204811096),\n",
       " ('boost', 0.3774690330028534),\n",
       " ('levels', 0.36981403827667236),\n",
       " ('costs', 0.34772640466690063),\n",
       " ('affect', 0.3443049192428589),\n",
       " ('uncharacteristical', 0.34284472465515137),\n",
       " ('prevent', 0.34240657091140747),\n",
       " ('rate', 0.3396638333797455),\n",
       " ('financial', 0.3256698250770569),\n",
       " ('stress', 0.3254662752151489),\n",
       " ('research', 0.3230990171432495),\n",
       " ('overall', 0.32018959522247314),\n",
       " ('energy', 0.31914854049682617),\n",
       " ('risk', 0.3188474178314209),\n",
       " ('cancer', 0.317279189825058),\n",
       " ('cost', 0.31415891647338867),\n",
       " ('rates', 0.3122498691082001),\n",
       " ('budget', 0.31180518865585327),\n",
       " ('nutrition', 0.3105454444885254),\n",
       " ('benefit', 0.30983519554138184),\n",
       " ('affects', 0.30666130781173706),\n",
       " ('symptoms', 0.3046736717224121),\n",
       " ('improving', 0.3041445016860962),\n",
       " ('savings', 0.3028523623943329),\n",
       " ('ensure', 0.30241209268569946),\n",
       " ('massive', 0.30146265029907227)]"
      ]
     },
     "execution_count": 462,
     "metadata": {},
     "output_type": "execute_result"
    }
   ],
   "source": [
    "token = 'blood'\n",
    "north(token)"
   ]
  },
  {
   "cell_type": "code",
   "execution_count": 463,
   "metadata": {},
   "outputs": [
    {
     "data": {
      "text/plain": [
       "[('jesus', 0.4181080758571625),\n",
       " ('christ', 0.4088263511657715),\n",
       " ('hood', 0.38924920558929443),\n",
       " ('washed', 0.3270508348941803),\n",
       " ('god', 0.31922203302383423),\n",
       " ('choir', 0.3154239058494568),\n",
       " ('boy', 0.3121204376220703),\n",
       " ('playing', 0.3067709803581238),\n",
       " ('mud', 0.3029404282569885),\n",
       " ('stood', 0.2963900864124298),\n",
       " ('came', 0.29512736201286316),\n",
       " ('lamb', 0.29344671964645386),\n",
       " ('walked', 0.2925993800163269),\n",
       " ('lord', 0.2911379039287567),\n",
       " ('window', 0.28959545493125916),\n",
       " ('faithful', 0.28499525785446167),\n",
       " ('ugly', 0.2847456932067871),\n",
       " ('died', 0.282840758562088),\n",
       " ('turned', 0.2780376970767975),\n",
       " ('uncle', 0.27798259258270264),\n",
       " ('gospel', 0.2725037932395935),\n",
       " ('glory', 0.27133122086524963),\n",
       " ('nigga', 0.26875853538513184),\n",
       " ('john', 0.2675343155860901),\n",
       " ('bun', 0.2638452649116516),\n",
       " ('shook', 0.2626761794090271),\n",
       " ('dirt', 0.26195985078811646),\n",
       " ('brother', 0.2613903284072876),\n",
       " ('gang', 0.25983330607414246),\n",
       " ('brothers', 0.25879186391830444)]"
      ]
     },
     "execution_count": 463,
     "metadata": {},
     "output_type": "execute_result"
    }
   ],
   "source": [
    "south(token)"
   ]
  },
  {
   "cell_type": "code",
   "execution_count": null,
   "metadata": {},
   "outputs": [],
   "source": []
  }
 ],
 "metadata": {
  "kernelspec": {
   "display_name": "Python 3",
   "language": "python",
   "name": "python3"
  },
  "language_info": {
   "codemirror_mode": {
    "name": "ipython",
    "version": 3
   },
   "file_extension": ".py",
   "mimetype": "text/x-python",
   "name": "python",
   "nbconvert_exporter": "python",
   "pygments_lexer": "ipython3",
   "version": "3.6.2"
  }
 },
 "nbformat": 4,
 "nbformat_minor": 2
}
