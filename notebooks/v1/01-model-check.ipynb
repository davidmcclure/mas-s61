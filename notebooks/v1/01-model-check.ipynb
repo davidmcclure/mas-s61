{
 "cells": [
  {
   "cell_type": "code",
   "execution_count": 1,
   "metadata": {},
   "outputs": [],
   "source": [
    "from gensim.models import Word2Vec"
   ]
  },
  {
   "cell_type": "code",
   "execution_count": 2,
   "metadata": {},
   "outputs": [],
   "source": [
    "ne = Word2Vec.load('../data/northeast.bin')"
   ]
  },
  {
   "cell_type": "code",
   "execution_count": 3,
   "metadata": {},
   "outputs": [],
   "source": [
    "mw = Word2Vec.load('../data/midwest.bin')"
   ]
  },
  {
   "cell_type": "code",
   "execution_count": 12,
   "metadata": {},
   "outputs": [
    {
     "data": {
      "text/plain": [
       "[('bacon', 0.780357837677002),\n",
       " ('pepperoni', 0.7347087860107422),\n",
       " ('parmesan', 0.7328174114227295),\n",
       " ('cheddar', 0.7255016565322876),\n",
       " ('broccoli', 0.7200480103492737),\n",
       " ('sandwich', 0.7190417647361755),\n",
       " ('hummus', 0.7164621353149414),\n",
       " ('shrimp', 0.7154108285903931),\n",
       " ('mozzarella', 0.7070541977882385),\n",
       " ('steak', 0.7056443691253662)]"
      ]
     },
     "execution_count": 12,
     "metadata": {},
     "output_type": "execute_result"
    }
   ],
   "source": [
    "ne.most_similar('cheese')"
   ]
  },
  {
   "cell_type": "code",
   "execution_count": 13,
   "metadata": {},
   "outputs": [
    {
     "data": {
      "text/plain": [
       "[('bacon', 0.7568475008010864),\n",
       " ('jalapeo', 0.753376305103302),\n",
       " ('mozzarella', 0.7487356662750244),\n",
       " ('hummus', 0.7387663722038269),\n",
       " ('celery', 0.7352648973464966),\n",
       " ('parmesan', 0.7277747988700867),\n",
       " ('pepperoni', 0.7266275882720947),\n",
       " ('broccoli', 0.7265549898147583),\n",
       " ('tofu', 0.7221795320510864),\n",
       " ('pasta', 0.720003604888916)]"
      ]
     },
     "execution_count": 13,
     "metadata": {},
     "output_type": "execute_result"
    }
   ],
   "source": [
    "mw.most_similar('cheese')"
   ]
  }
 ],
 "metadata": {
  "kernelspec": {
   "display_name": "Python 3",
   "language": "python",
   "name": "python3"
  },
  "language_info": {
   "codemirror_mode": {
    "name": "ipython",
    "version": 3
   },
   "file_extension": ".py",
   "mimetype": "text/x-python",
   "name": "python",
   "nbconvert_exporter": "python",
   "pygments_lexer": "ipython3",
   "version": "3.6.2"
  }
 },
 "nbformat": 4,
 "nbformat_minor": 2
}
