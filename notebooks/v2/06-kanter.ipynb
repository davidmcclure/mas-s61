{
 "cells": [
  {
   "cell_type": "code",
   "execution_count": 1,
   "metadata": {},
   "outputs": [],
   "source": [
    "import numpy as np\n",
    "import pandas as pd\n",
    "\n",
    "from gensim.models import KeyedVectors\n",
    "from scipy.spatial.distance import cosine\n",
    "from tqdm import tqdm_notebook\n",
    "\n",
    "from sources import parse_glove_vocab\n",
    "\n",
    "from IPython.display import Markdown, display"
   ]
  },
  {
   "cell_type": "code",
   "execution_count": 2,
   "metadata": {},
   "outputs": [],
   "source": [
    "import matplotlib as mpl\n",
    "import matplotlib.pyplot as plt\n",
    "\n",
    "%matplotlib inline\n",
    "mpl.style.use('bmh')"
   ]
  },
  {
   "cell_type": "code",
   "execution_count": 3,
   "metadata": {},
   "outputs": [],
   "source": [
    "pd.options.display.max_rows = 1000"
   ]
  },
  {
   "cell_type": "code",
   "execution_count": 4,
   "metadata": {},
   "outputs": [],
   "source": [
    "m1 = KeyedVectors.load_word2vec_format('../../data/corpora/north-south/new-england.w2v.txt')"
   ]
  },
  {
   "cell_type": "code",
   "execution_count": 5,
   "metadata": {},
   "outputs": [],
   "source": [
    "m2 = KeyedVectors.load_word2vec_format('../../data/corpora/north-south/deep-south.w2v.txt')"
   ]
  },
  {
   "cell_type": "code",
   "execution_count": 8,
   "metadata": {},
   "outputs": [],
   "source": [
    "def compare(token, n=50):\n",
    "    display(Markdown(f'# {token}'))\n",
    "    display(Markdown(f'#### New England'))\n",
    "    for t, _ in m1.most_similar(token, topn=n):\n",
    "        print(t)\n",
    "    print('\\n')\n",
    "    display(Markdown(f'#### South'))\n",
    "    for t, _ in m2.most_similar(token, topn=n):\n",
    "        print(t)"
   ]
  },
  {
   "cell_type": "code",
   "execution_count": 9,
   "metadata": {
    "scrolled": false
   },
   "outputs": [
    {
     "data": {
      "text/markdown": [
       "# woman"
      ],
      "text/plain": [
       "<IPython.core.display.Markdown object>"
      ]
     },
     "metadata": {},
     "output_type": "display_data"
    },
    {
     "data": {
      "text/markdown": [
       "#### New England"
      ],
      "text/plain": [
       "<IPython.core.display.Markdown object>"
      ]
     },
     "metadata": {},
     "output_type": "display_data"
    },
    {
     "name": "stdout",
     "output_type": "stream",
     "text": [
      "man\n",
      "wonder\n",
      "women\n",
      "lady\n",
      "accidentally\n",
      "she\n",
      "kfc\n",
      "lung\n",
      "girl\n",
      "forced\n",
      "odd\n",
      "wife\n",
      "female\n",
      "stomach\n",
      "young\n",
      "asks\n",
      "officer\n",
      "cop\n",
      "teen\n",
      "doctor\n",
      "sues\n",
      "herself\n",
      "alive\n",
      "texting\n",
      "guy\n",
      "husband\n",
      "police\n",
      "allegedly\n",
      "pregnant\n",
      "strange\n",
      "old\n",
      "falls\n",
      "homeless\n",
      "mother\n",
      "muslim\n",
      "elderly\n",
      "elevator\n",
      "metal\n",
      "person\n",
      "black\n",
      "killed\n",
      "sexually\n",
      "arrested\n",
      "her\n",
      "gal\n",
      "finds\n",
      "charged\n",
      "sexy\n",
      "who\n",
      "child\n",
      "\n",
      "\n"
     ]
    },
    {
     "data": {
      "text/markdown": [
       "#### South"
      ],
      "text/plain": [
       "<IPython.core.display.Markdown object>"
      ]
     },
     "metadata": {},
     "output_type": "display_data"
    },
    {
     "name": "stdout",
     "output_type": "stream",
     "text": [
      "man\n",
      "pregnant\n",
      "women\n",
      "she\n",
      "herself\n",
      "accidentally\n",
      "wife\n",
      "kfc\n",
      "lung\n",
      "girl\n",
      "daughter\n",
      "officer\n",
      "forced\n",
      "husband\n",
      "stomach\n",
      "old\n",
      "her\n",
      "skull\n",
      "mom\n",
      "men\n",
      "sexy\n",
      "elderly\n",
      "accused\n",
      "allegedly\n",
      "black\n",
      "alive\n",
      "asks\n",
      "child\n",
      "teenager\n",
      "police\n",
      "dies\n",
      "raped\n",
      "female\n",
      "gets\n",
      "killed\n",
      "teen\n",
      "finds\n",
      "doctors\n",
      "mother\n",
      "sues\n",
      "young\n",
      "arrested\n",
      "he\n",
      "charged\n",
      "sexually\n",
      "guy\n",
      "gal\n",
      "cage\n",
      "odd\n",
      "strange\n"
     ]
    }
   ],
   "source": [
    "compare('woman')"
   ]
  },
  {
   "cell_type": "code",
   "execution_count": 10,
   "metadata": {
    "scrolled": false
   },
   "outputs": [
    {
     "data": {
      "text/markdown": [
       "# choice"
      ],
      "text/plain": [
       "<IPython.core.display.Markdown object>"
      ]
     },
     "metadata": {},
     "output_type": "display_data"
    },
    {
     "data": {
      "text/markdown": [
       "#### New England"
      ],
      "text/plain": [
       "<IPython.core.display.Markdown object>"
      ]
     },
     "metadata": {},
     "output_type": "display_data"
    },
    {
     "name": "stdout",
     "output_type": "stream",
     "text": [
      "choose\n",
      "choices\n",
      "decision\n",
      "choosing\n",
      "pick\n",
      "chose\n",
      "awards\n",
      "ranked\n",
      "option\n",
      "readers\n",
      "argument\n",
      "voting\n",
      "kindness\n",
      "overall\n",
      "excellent\n",
      "options\n",
      "award\n",
      "tough\n",
      "winner\n",
      "freedom\n",
      "chosen\n",
      "nominated\n",
      "hotels\n",
      "best\n",
      "good\n",
      "difference\n",
      "wise\n",
      "reasons\n",
      "decisions\n",
      "multiple\n",
      "obvious\n",
      "abortion\n",
      "which\n",
      "right\n",
      "regardless\n",
      "word\n",
      "combination\n",
      "debate\n",
      "giving\n",
      "sense\n",
      "vote\n",
      "education\n",
      "opinion\n",
      "wrong\n",
      "taste\n",
      "teen\n",
      "picking\n",
      "imo\n",
      "reason\n",
      "respect\n",
      "\n",
      "\n"
     ]
    },
    {
     "data": {
      "text/markdown": [
       "#### South"
      ],
      "text/plain": [
       "<IPython.core.display.Markdown object>"
      ]
     },
     "metadata": {},
     "output_type": "display_data"
    },
    {
     "name": "stdout",
     "output_type": "stream",
     "text": [
      "choose\n",
      "choosing\n",
      "wk\n",
      "choices\n",
      "decision\n",
      "depressing\n",
      "disabled\n",
      "winner\n",
      "decisions\n",
      "asking\n",
      "pick\n",
      "picking\n",
      "excellent\n",
      "readers\n",
      "hardest\n",
      "chose\n",
      "awards\n",
      "overall\n",
      "wise\n",
      "option\n",
      "kindness\n",
      "advice\n",
      "tough\n",
      "options\n",
      "win\n",
      "multiple\n",
      "given\n",
      "opinion\n",
      "logical\n",
      "either\n",
      "correct\n",
      "best\n",
      "sweepstakes\n",
      "hotels\n",
      "award\n",
      "kind\n",
      "direction\n",
      "sense\n",
      "informed\n",
      "lottery\n",
      "chance\n",
      "wins\n",
      "food\n",
      "sides\n",
      "taste\n",
      "whether\n",
      "freedom\n",
      "happiness\n",
      "answer\n",
      "tip\n"
     ]
    }
   ],
   "source": [
    "compare('choice')"
   ]
  },
  {
   "cell_type": "code",
   "execution_count": 11,
   "metadata": {
    "scrolled": false
   },
   "outputs": [
    {
     "data": {
      "text/markdown": [
       "# abortion"
      ],
      "text/plain": [
       "<IPython.core.display.Markdown object>"
      ]
     },
     "metadata": {},
     "output_type": "display_data"
    },
    {
     "data": {
      "text/markdown": [
       "#### New England"
      ],
      "text/plain": [
       "<IPython.core.display.Markdown object>"
      ]
     },
     "metadata": {},
     "output_type": "display_data"
    },
    {
     "name": "stdout",
     "output_type": "stream",
     "text": [
      "parenthood\n",
      "anti\n",
      "rights\n",
      "immigrant\n",
      "birth\n",
      "marriage\n",
      "sharia\n",
      "immigration\n",
      "lgbt\n",
      "daca\n",
      "planned\n",
      "equal\n",
      "abuse\n",
      "legal\n",
      "sanctuary\n",
      "activist\n",
      "pregnancy\n",
      "amendment\n",
      "treatment\n",
      "rape\n",
      "pro\n",
      "violence\n",
      "oral\n",
      "opposed\n",
      "funding\n",
      "refugee\n",
      "advocate\n",
      "immigrants\n",
      "conservative\n",
      "equality\n",
      "trans\n",
      "discrimination\n",
      "clinic\n",
      "slavery\n",
      "religious\n",
      "muslim\n",
      "harassment\n",
      "هذه\n",
      "oppose\n",
      "illegal\n",
      "constitutional\n",
      "obamacare\n",
      "establishment\n",
      "feminist\n",
      "argument\n",
      "addiction\n",
      "laws\n",
      "controversial\n",
      "protest\n",
      "medicaid\n",
      "\n",
      "\n"
     ]
    },
    {
     "data": {
      "text/markdown": [
       "#### South"
      ],
      "text/plain": [
       "<IPython.core.display.Markdown object>"
      ]
     },
     "metadata": {},
     "output_type": "display_data"
    },
    {
     "name": "stdout",
     "output_type": "stream",
     "text": [
      "parenthood\n",
      "anti\n",
      "sharia\n",
      "immigrant\n",
      "birth\n",
      "oppose\n",
      "planned\n",
      "discrimination\n",
      "advocate\n",
      "lgbt\n",
      "equality\n",
      "immigration\n",
      "assault\n",
      "clinic\n",
      "policies\n",
      "violence\n",
      "radical\n",
      "religious\n",
      "muslim\n",
      "amendment\n",
      "activist\n",
      "feminist\n",
      "refugee\n",
      "islamic\n",
      "pro\n",
      "rights\n",
      "sanctuary\n",
      "funding\n",
      "slavery\n",
      "breitbart\n",
      "constitutional\n",
      "legal\n",
      "supports\n",
      "protest\n",
      "terrorism\n",
      "ban\n",
      "legislation\n",
      "islam\n",
      "targeting\n",
      "milo\n",
      "obamacare\n",
      "murder\n",
      "abuse\n",
      "laws\n",
      "conservatives\n",
      "muslims\n",
      "trans\n",
      "equal\n",
      "hiv\n",
      "appeal\n"
     ]
    }
   ],
   "source": [
    "compare('abortion')"
   ]
  },
  {
   "cell_type": "code",
   "execution_count": 12,
   "metadata": {
    "scrolled": false
   },
   "outputs": [
    {
     "data": {
      "text/markdown": [
       "# freedom"
      ],
      "text/plain": [
       "<IPython.core.display.Markdown object>"
      ]
     },
     "metadata": {},
     "output_type": "display_data"
    },
    {
     "data": {
      "text/markdown": [
       "#### New England"
      ],
      "text/plain": [
       "<IPython.core.display.Markdown object>"
      ]
     },
     "metadata": {},
     "output_type": "display_data"
    },
    {
     "name": "stdout",
     "output_type": "stream",
     "text": [
      "religious\n",
      "speech\n",
      "equality\n",
      "expression\n",
      "liberty\n",
      "constitution\n",
      "presentation\n",
      "rights\n",
      "democracy\n",
      "choose\n",
      "religion\n",
      "amendment\n",
      "peace\n",
      "defend\n",
      "values\n",
      "destination\n",
      "fear\n",
      "sacrifice\n",
      "fought\n",
      "hatred\n",
      "respect\n",
      "slavery\n",
      "independence\n",
      "happiness\n",
      "peaceful\n",
      "ignorance\n",
      "press\n",
      "constitutional\n",
      "terrorism\n",
      "islam\n",
      "silence\n",
      "choice\n",
      "beliefs\n",
      "privilege\n",
      "defending\n",
      "compassion\n",
      "principles\n",
      "racism\n",
      "faith\n",
      "unity\n",
      "shall\n",
      "american\n",
      "nazis\n",
      "upcoming\n",
      "courage\n",
      "violence\n",
      "lies\n",
      "fighters\n",
      "protecting\n",
      "protected\n",
      "\n",
      "\n"
     ]
    },
    {
     "data": {
      "text/markdown": [
       "#### South"
      ],
      "text/plain": [
       "<IPython.core.display.Markdown object>"
      ]
     },
     "metadata": {},
     "output_type": "display_data"
    },
    {
     "name": "stdout",
     "output_type": "stream",
     "text": [
      "peace\n",
      "speaking\n",
      "liberty\n",
      "goddess\n",
      "speech\n",
      "🙏\n",
      "blessings\n",
      "religious\n",
      "😇\n",
      "democracy\n",
      "equality\n",
      "fear\n",
      "👑\n",
      "constitution\n",
      "religion\n",
      "supreme\n",
      "rights\n",
      "life\n",
      "daily\n",
      "live\n",
      "happiness\n",
      "queen\n",
      "independence\n",
      "slavery\n",
      "amendment\n",
      "unity\n",
      "sacrifice\n",
      "privilege\n",
      "expression\n",
      "christ\n",
      "lives\n",
      "financial\n",
      "fighters\n",
      "equal\n",
      "choose\n",
      "destination\n",
      "defend\n",
      "movement\n",
      "justice\n",
      "protecting\n",
      "exercise\n",
      "existence\n",
      "honor\n",
      "patriot\n",
      "joy\n",
      "hatred\n",
      "fought\n",
      "protest\n",
      "william\n",
      "consequences\n"
     ]
    }
   ],
   "source": [
    "compare('freedom')"
   ]
  },
  {
   "cell_type": "code",
   "execution_count": 13,
   "metadata": {
    "scrolled": false
   },
   "outputs": [
    {
     "data": {
      "text/markdown": [
       "# life"
      ],
      "text/plain": [
       "<IPython.core.display.Markdown object>"
      ]
     },
     "metadata": {},
     "output_type": "display_data"
    },
    {
     "data": {
      "text/markdown": [
       "#### New England"
      ],
      "text/plain": [
       "<IPython.core.display.Markdown object>"
      ]
     },
     "metadata": {},
     "output_type": "display_data"
    },
    {
     "name": "stdout",
     "output_type": "stream",
     "text": [
      "lives\n",
      "everything\n",
      "living\n",
      "forever\n",
      "whole\n",
      "happiness\n",
      "truly\n",
      "change\n",
      "sometimes\n",
      "relationship\n",
      "meaning\n",
      "ruin\n",
      "dreams\n",
      "lived\n",
      "time\n",
      "wish\n",
      "miserable\n",
      "things\n",
      "everyday\n",
      "thankful\n",
      "loving\n",
      "honestly\n",
      "god\n",
      "my\n",
      "goals\n",
      "saving\n",
      "matter\n",
      "true\n",
      "family\n",
      "saved\n",
      "entire\n",
      "shit\n",
      "else\n",
      "story\n",
      "ruined\n",
      "literally\n",
      "purpose\n",
      "choices\n",
      "always\n",
      "every\n",
      "tbh\n",
      "love\n",
      "changed\n",
      "never\n",
      "friendship\n",
      "changing\n",
      "journey\n",
      "own\n",
      "something\n",
      "lesson\n",
      "\n",
      "\n"
     ]
    },
    {
     "data": {
      "text/markdown": [
       "#### South"
      ],
      "text/plain": [
       "<IPython.core.display.Markdown object>"
      ]
     },
     "metadata": {},
     "output_type": "display_data"
    },
    {
     "name": "stdout",
     "output_type": "stream",
     "text": [
      "living\n",
      "lives\n",
      "sometimes\n",
      "blessings\n",
      "change\n",
      "forever\n",
      "relationship\n",
      "whole\n",
      "happiness\n",
      "everything\n",
      "god\n",
      "peace\n",
      "freedom\n",
      "honestly\n",
      "speaking\n",
      "things\n",
      "rest\n",
      "everyday\n",
      "😇\n",
      "someone\n",
      "existence\n",
      "myself\n",
      "truly\n",
      "saving\n",
      "loving\n",
      "way\n",
      "my\n",
      "love\n",
      "nothing\n",
      "matter\n",
      "changing\n",
      "positive\n",
      "always\n",
      "goals\n",
      "else\n",
      "situations\n",
      "swear\n",
      "🙏\n",
      "thankful\n",
      "enjoy\n",
      "your\n",
      "mood\n",
      "dreams\n",
      "learned\n",
      "friendship\n",
      "person\n",
      "career\n",
      "make\n",
      "together\n",
      "shit\n"
     ]
    }
   ],
   "source": [
    "compare('life')"
   ]
  },
  {
   "cell_type": "code",
   "execution_count": 14,
   "metadata": {
    "scrolled": false
   },
   "outputs": [
    {
     "data": {
      "text/markdown": [
       "# birth"
      ],
      "text/plain": [
       "<IPython.core.display.Markdown object>"
      ]
     },
     "metadata": {},
     "output_type": "display_data"
    },
    {
     "data": {
      "text/markdown": [
       "#### New England"
      ],
      "text/plain": [
       "<IPython.core.display.Markdown object>"
      ]
     },
     "metadata": {},
     "output_type": "display_data"
    },
    {
     "name": "stdout",
     "output_type": "stream",
     "text": [
      "pregnancy\n",
      "abortion\n",
      "pregnant\n",
      "control\n",
      "child\n",
      "giving\n",
      "gave\n",
      "treatment\n",
      "gives\n",
      "marriage\n",
      "mother\n",
      "rights\n",
      "beyoncé\n",
      "mothers\n",
      "twins\n",
      "give\n",
      "age\n",
      "bday\n",
      "given\n",
      "newborn\n",
      "amendment\n",
      "injuries\n",
      "babies\n",
      "license\n",
      "father\n",
      "months\n",
      "abuse\n",
      "rates\n",
      "rate\n",
      "oral\n",
      "michelle\n",
      "month\n",
      "older\n",
      "pills\n",
      "daughters\n",
      "younger\n",
      "since\n",
      "insurance\n",
      "married\n",
      "born\n",
      "according\n",
      "fathers\n",
      "disease\n",
      "her\n",
      "symptoms\n",
      "parents\n",
      "switched\n",
      "lowest\n",
      "gun\n",
      "baby\n",
      "\n",
      "\n"
     ]
    },
    {
     "data": {
      "text/markdown": [
       "#### South"
      ],
      "text/plain": [
       "<IPython.core.display.Markdown object>"
      ]
     },
     "metadata": {},
     "output_type": "display_data"
    },
    {
     "name": "stdout",
     "output_type": "stream",
     "text": [
      "gives\n",
      "abortion\n",
      "giving\n",
      "pregnancy\n",
      "pregnant\n",
      "twins\n",
      "mother\n",
      "child\n",
      "baby\n",
      "gave\n",
      "beyoncé\n",
      "beyonce\n",
      "control\n",
      "mothers\n",
      "given\n",
      "babies\n",
      "announcement\n",
      "pills\n",
      "month\n",
      "passes\n",
      "celebrates\n",
      "twin\n",
      "born\n",
      "anniversary\n",
      "mom\n",
      "africa\n",
      "animal\n",
      "newborn\n",
      "gender\n",
      "switched\n",
      "give\n",
      "expecting\n",
      "father\n",
      "rat\n",
      "wife\n",
      "adopted\n",
      "city\n",
      "highest\n",
      "delivery\n",
      "sanctuary\n",
      "frog\n",
      "daughter\n",
      "rights\n",
      "son\n",
      "transgender\n",
      "admitted\n",
      "children\n",
      "sized\n",
      "cannabis\n",
      "since\n"
     ]
    }
   ],
   "source": [
    "compare('birth')"
   ]
  }
 ],
 "metadata": {
  "kernelspec": {
   "display_name": "Python 3",
   "language": "python",
   "name": "python3"
  },
  "language_info": {
   "codemirror_mode": {
    "name": "ipython",
    "version": 3
   },
   "file_extension": ".py",
   "mimetype": "text/x-python",
   "name": "python",
   "nbconvert_exporter": "python",
   "pygments_lexer": "ipython3",
   "version": "3.6.2"
  }
 },
 "nbformat": 4,
 "nbformat_minor": 2
}
