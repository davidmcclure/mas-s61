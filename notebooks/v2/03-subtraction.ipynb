{
 "cells": [
  {
   "cell_type": "markdown",
   "metadata": {},
   "source": [
    "# Concept subtraction"
   ]
  },
  {
   "cell_type": "code",
   "execution_count": 3,
   "metadata": {},
   "outputs": [],
   "source": [
    "import numpy as np\n",
    "import pandas as pd\n",
    "\n",
    "from gensim.models import KeyedVectors\n",
    "from scipy.spatial.distance import cosine\n",
    "from tqdm import tqdm_notebook\n",
    "\n",
    "from sources import parse_glove_vocab\n",
    "\n",
    "from IPython.display import Markdown, display"
   ]
  },
  {
   "cell_type": "code",
   "execution_count": 4,
   "metadata": {},
   "outputs": [],
   "source": [
    "import matplotlib as mpl\n",
    "import matplotlib.pyplot as plt\n",
    "\n",
    "%matplotlib inline\n",
    "mpl.style.use('bmh')"
   ]
  },
  {
   "cell_type": "code",
   "execution_count": 7,
   "metadata": {},
   "outputs": [],
   "source": [
    "m1 = KeyedVectors.load_word2vec_format('../../data/corpora/north-south/new-england.w2v.txt')"
   ]
  },
  {
   "cell_type": "code",
   "execution_count": 8,
   "metadata": {},
   "outputs": [],
   "source": [
    "m2 = KeyedVectors.load_word2vec_format('../../data/corpora/north-south/deep-south.w2v.txt')"
   ]
  },
  {
   "cell_type": "code",
   "execution_count": 9,
   "metadata": {},
   "outputs": [],
   "source": [
    "combined = KeyedVectors.load_word2vec_format('../../data/corpora/north-south/combined.w2v.txt')"
   ]
  },
  {
   "cell_type": "code",
   "execution_count": 11,
   "metadata": {},
   "outputs": [],
   "source": [
    "vocab = parse_glove_vocab('../../data/corpora/north-south/vocab.txt')"
   ]
  },
  {
   "cell_type": "code",
   "execution_count": 12,
   "metadata": {},
   "outputs": [],
   "source": [
    "def concept_diff(m1, m2, seed, depth=50, topn=20):\n",
    "    \n",
    "    m1_sim = [t for t, _ in m1.most_similar(seed, topn=depth)]\n",
    "    m2_sim = [t for t, _ in m2.most_similar(seed, topn=depth)]\n",
    "    \n",
    "    m1_avg = np.array([combined[t] for t in m1_sim]).mean(0)\n",
    "    m2_avg = np.array([combined[t] for t in m2_sim]).mean(0)\n",
    "    \n",
    "    return combined.similar_by_vector(m1_avg-m2_avg, topn=topn)"
   ]
  },
  {
   "cell_type": "code",
   "execution_count": 13,
   "metadata": {},
   "outputs": [],
   "source": [
    "def north(seed, *args, **kwargs):\n",
    "    return concept_diff(m1, m2, seed, *args, **kwargs)"
   ]
  },
  {
   "cell_type": "code",
   "execution_count": 14,
   "metadata": {},
   "outputs": [],
   "source": [
    "def south(seed, *args, **kwargs):\n",
    "    return concept_diff(m2, m1, seed, *args, **kwargs)"
   ]
  },
  {
   "cell_type": "code",
   "execution_count": 15,
   "metadata": {},
   "outputs": [],
   "source": [
    "def compare(token, *args, **kwargs):\n",
    "    display(Markdown(f'# {token}'))\n",
    "    display(Markdown(f'#### New England'))\n",
    "    for t, _ in north(token, *args, **kwargs):\n",
    "        print(t)\n",
    "    print('\\n')\n",
    "    display(Markdown(f'#### South'))\n",
    "    for t, _ in south(token, *args, **kwargs):\n",
    "        print(t)"
   ]
  },
  {
   "cell_type": "code",
   "execution_count": 16,
   "metadata": {},
   "outputs": [
    {
     "data": {
      "text/markdown": [
       "# man"
      ],
      "text/plain": [
       "<IPython.core.display.Markdown object>"
      ]
     },
     "metadata": {},
     "output_type": "display_data"
    },
    {
     "data": {
      "text/markdown": [
       "#### New England"
      ],
      "text/plain": [
       "<IPython.core.display.Markdown object>"
      ]
     },
     "metadata": {},
     "output_type": "display_data"
    },
    {
     "name": "stdout",
     "output_type": "stream",
     "text": [
      "masked\n",
      "arrest\n",
      "allegedly\n",
      "police\n",
      "arrested\n",
      "accused\n",
      "alleged\n",
      "officers\n",
      "records\n",
      "authorities\n",
      "reportedly\n",
      "seeks\n",
      "inmates\n",
      "deaths\n",
      "أعوذ\n",
      "investigating\n",
      "إني\n",
      "cops\n",
      "captured\n",
      "targeted\n",
      "\n",
      "\n"
     ]
    },
    {
     "data": {
      "text/markdown": [
       "#### South"
      ],
      "text/plain": [
       "<IPython.core.display.Markdown object>"
      ]
     },
     "metadata": {},
     "output_type": "display_data"
    },
    {
     "name": "stdout",
     "output_type": "stream",
     "text": [
      "lmao\n",
      "lmaoo\n",
      "lmfao\n",
      "lol\n",
      "😂\n",
      "😂😂\n",
      "lmaooo\n",
      "😂😂😂\n",
      "😂😂😂😂\n",
      "😭😭\n",
      "😭😭😭\n",
      "😭\n",
      "bruh\n",
      "lmaoooo\n",
      "tho\n",
      "nah\n",
      "😂😂😂😂😂\n",
      "lmfaooo\n",
      "lmfaoo\n",
      "😂😭\n"
     ]
    }
   ],
   "source": [
    "compare('man')"
   ]
  },
  {
   "cell_type": "code",
   "execution_count": 17,
   "metadata": {},
   "outputs": [
    {
     "data": {
      "text/markdown": [
       "# earth"
      ],
      "text/plain": [
       "<IPython.core.display.Markdown object>"
      ]
     },
     "metadata": {},
     "output_type": "display_data"
    },
    {
     "data": {
      "text/markdown": [
       "#### New England"
      ],
      "text/plain": [
       "<IPython.core.display.Markdown object>"
      ]
     },
     "metadata": {},
     "output_type": "display_data"
    },
    {
     "name": "stdout",
     "output_type": "stream",
     "text": [
      "economic\n",
      "environment\n",
      "policies\n",
      "destroying\n",
      "climate\n",
      "environmental\n",
      "scientists\n",
      "infrastructure\n",
      "careers\n",
      "epa\n",
      "affects\n",
      "threaten\n",
      "political\n",
      "managing\n",
      "destroy\n",
      "economy\n",
      "solve\n",
      "networks\n",
      "threatens\n",
      "communities\n",
      "\n",
      "\n"
     ]
    },
    {
     "data": {
      "text/markdown": [
       "#### South"
      ],
      "text/plain": [
       "<IPython.core.display.Markdown object>"
      ]
     },
     "metadata": {},
     "output_type": "display_data"
    },
    {
     "name": "stdout",
     "output_type": "stream",
     "text": [
      "lord\n",
      "jesus\n",
      "grace\n",
      "sweet\n",
      "christ\n",
      "boy\n",
      "mama\n",
      "shall\n",
      "praise\n",
      "god\n",
      "love\n",
      "brother\n",
      "heaven\n",
      "tune\n",
      "😍\n",
      "glory\n",
      "blessed\n",
      "baby\n",
      "shawn\n",
      "i\n"
     ]
    }
   ],
   "source": [
    "compare('earth')"
   ]
  },
  {
   "cell_type": "code",
   "execution_count": 18,
   "metadata": {},
   "outputs": [
    {
     "data": {
      "text/markdown": [
       "# nazi"
      ],
      "text/plain": [
       "<IPython.core.display.Markdown object>"
      ]
     },
     "metadata": {},
     "output_type": "display_data"
    },
    {
     "data": {
      "text/markdown": [
       "#### New England"
      ],
      "text/plain": [
       "<IPython.core.display.Markdown object>"
      ]
     },
     "metadata": {},
     "output_type": "display_data"
    },
    {
     "name": "stdout",
     "output_type": "stream",
     "text": [
      "idiots\n",
      "idiot\n",
      "stupid\n",
      "morons\n",
      "moron\n",
      "dumbass\n",
      "ignorant\n",
      "dumb\n",
      "assholes\n",
      "asshole\n",
      "smh\n",
      "clueless\n",
      "supporters\n",
      "sir\n",
      "asses\n",
      "kidding\n",
      "fool\n",
      "delusional\n",
      "bunch\n",
      "fuckin\n",
      "\n",
      "\n"
     ]
    },
    {
     "data": {
      "text/markdown": [
       "#### South"
      ],
      "text/plain": [
       "<IPython.core.display.Markdown object>"
      ]
     },
     "metadata": {},
     "output_type": "display_data"
    },
    {
     "name": "stdout",
     "output_type": "stream",
     "text": [
      "islamic\n",
      "radical\n",
      "egypt\n",
      "jewish\n",
      "divine\n",
      "terrorism\n",
      "israel\n",
      "romance\n",
      "cultural\n",
      "elements\n",
      "islam\n",
      "meets\n",
      "catholic\n",
      "initiative\n",
      "developed\n",
      "collaboration\n",
      "pakistan\n",
      "lover\n",
      "isis\n",
      "weapon\n"
     ]
    }
   ],
   "source": [
    "compare('nazi')"
   ]
  },
  {
   "cell_type": "code",
   "execution_count": 19,
   "metadata": {},
   "outputs": [
    {
     "data": {
      "text/markdown": [
       "# liberal"
      ],
      "text/plain": [
       "<IPython.core.display.Markdown object>"
      ]
     },
     "metadata": {},
     "output_type": "display_data"
    },
    {
     "data": {
      "text/markdown": [
       "#### New England"
      ],
      "text/plain": [
       "<IPython.core.display.Markdown object>"
      ]
     },
     "metadata": {},
     "output_type": "display_data"
    },
    {
     "name": "stdout",
     "output_type": "stream",
     "text": [
      "establishment\n",
      "politician\n",
      "dem\n",
      "politicians\n",
      "racists\n",
      "republican\n",
      "roy\n",
      "democratic\n",
      "anti\n",
      "democrat\n",
      "moore\n",
      "uncle\n",
      "corrupt\n",
      "swamp\n",
      "blacks\n",
      "dc\n",
      "mt\n",
      "reps\n",
      "senator\n",
      "candidate\n",
      "\n",
      "\n"
     ]
    },
    {
     "data": {
      "text/markdown": [
       "#### South"
      ],
      "text/plain": [
       "<IPython.core.display.Markdown object>"
      ]
     },
     "metadata": {},
     "output_type": "display_data"
    },
    {
     "name": "stdout",
     "output_type": "stream",
     "text": [
      "msnbc\n",
      "cnn\n",
      "narrative\n",
      "nbc\n",
      "channel\n",
      "news\n",
      "update\n",
      "briefing\n",
      "espn\n",
      "wednesday\n",
      "unknown\n",
      "watch\n",
      "train\n",
      "story\n",
      "iphone\n",
      "wrap\n",
      "edge\n",
      "buzzfeed\n",
      "vlog\n",
      "twist\n"
     ]
    }
   ],
   "source": [
    "compare('liberal')"
   ]
  },
  {
   "cell_type": "code",
   "execution_count": 20,
   "metadata": {
    "scrolled": false
   },
   "outputs": [
    {
     "data": {
      "text/markdown": [
       "# russia"
      ],
      "text/plain": [
       "<IPython.core.display.Markdown object>"
      ]
     },
     "metadata": {},
     "output_type": "display_data"
    },
    {
     "data": {
      "text/markdown": [
       "#### New England"
      ],
      "text/plain": [
       "<IPython.core.display.Markdown object>"
      ]
     },
     "metadata": {},
     "output_type": "display_data"
    },
    {
     "name": "stdout",
     "output_type": "stream",
     "text": [
      "cheated\n",
      "hacked\n",
      "murdered\n",
      "raped\n",
      "exposed\n",
      "robbed\n",
      "cheating\n",
      "gettin\n",
      "alleged\n",
      "got\n",
      "married\n",
      "stabbed\n",
      "seth\n",
      "wives\n",
      "ethan\n",
      "amanda\n",
      "admitted\n",
      "deleted\n",
      "allegedly\n",
      "lied\n",
      "\n",
      "\n"
     ]
    },
    {
     "data": {
      "text/markdown": [
       "#### South"
      ],
      "text/plain": [
       "<IPython.core.display.Markdown object>"
      ]
     },
     "metadata": {},
     "output_type": "display_data"
    },
    {
     "name": "stdout",
     "output_type": "stream",
     "text": [
      "congress\n",
      "china\n",
      "tillerson\n",
      "council\n",
      "budget\n",
      "agenda\n",
      "policy\n",
      "sessions\n",
      "environment\n",
      "press\n",
      "president\n",
      "oppose\n",
      "toward\n",
      "senate\n",
      "conference\n",
      "leadership\n",
      "america\n",
      "education\n",
      "moving\n",
      "session\n"
     ]
    }
   ],
   "source": [
    "compare('russia')"
   ]
  },
  {
   "cell_type": "code",
   "execution_count": 34,
   "metadata": {},
   "outputs": [
    {
     "data": {
      "text/markdown": [
       "# trump"
      ],
      "text/plain": [
       "<IPython.core.display.Markdown object>"
      ]
     },
     "metadata": {},
     "output_type": "display_data"
    },
    {
     "data": {
      "text/markdown": [
       "#### New England"
      ],
      "text/plain": [
       "<IPython.core.display.Markdown object>"
      ]
     },
     "metadata": {},
     "output_type": "display_data"
    },
    {
     "name": "stdout",
     "output_type": "stream",
     "text": [
      "he\n",
      "knows\n",
      "told\n",
      "shawn\n",
      "asked\n",
      "met\n",
      "him\n",
      "knew\n",
      "his\n",
      "jr\n",
      "was\n",
      "himself\n",
      "impressed\n",
      "justin\n",
      "said\n",
      "got\n",
      "josh\n",
      "somebody\n",
      "wasn\n",
      "talked\n",
      "\n",
      "\n"
     ]
    },
    {
     "data": {
      "text/markdown": [
       "#### South"
      ],
      "text/plain": [
       "<IPython.core.display.Markdown object>"
      ]
     },
     "metadata": {},
     "output_type": "display_data"
    },
    {
     "name": "stdout",
     "output_type": "stream",
     "text": [
      "conservatives\n",
      "oppose\n",
      "liberals\n",
      "repeal\n",
      "republicans\n",
      "obamacare\n",
      "democrats\n",
      "racists\n",
      "radical\n",
      "trumpcare\n",
      "socialist\n",
      "boycott\n",
      "policies\n",
      "legislation\n",
      "lawmakers\n",
      "leftist\n",
      "americans\n",
      "conservative\n",
      "communist\n",
      "reform\n"
     ]
    }
   ],
   "source": [
    "compare('trump')"
   ]
  },
  {
   "cell_type": "code",
   "execution_count": 38,
   "metadata": {
    "scrolled": false
   },
   "outputs": [
    {
     "data": {
      "text/markdown": [
       "# obama"
      ],
      "text/plain": [
       "<IPython.core.display.Markdown object>"
      ]
     },
     "metadata": {},
     "output_type": "display_data"
    },
    {
     "data": {
      "text/markdown": [
       "#### New England"
      ],
      "text/plain": [
       "<IPython.core.display.Markdown object>"
      ]
     },
     "metadata": {},
     "output_type": "display_data"
    },
    {
     "name": "stdout",
     "output_type": "stream",
     "text": [
      "him\n",
      "he\n",
      "asked\n",
      "told\n",
      "i\n",
      "chair\n",
      "tweeted\n",
      "said\n",
      "dude\n",
      "when\n",
      "somebody\n",
      "seat\n",
      "got\n",
      "election\n",
      "idk\n",
      "bf\n",
      "knows\n",
      "comey\n",
      "sleep\n",
      "his\n",
      "\n",
      "\n"
     ]
    },
    {
     "data": {
      "text/markdown": [
       "#### South"
      ],
      "text/plain": [
       "<IPython.core.display.Markdown object>"
      ]
     },
     "metadata": {},
     "output_type": "display_data"
    },
    {
     "name": "stdout",
     "output_type": "stream",
     "text": [
      "immigrant\n",
      "immigrants\n",
      "immigration\n",
      "illegal\n",
      "daca\n",
      "refugee\n",
      "discrimination\n",
      "sanctuary\n",
      "illegals\n",
      "welfare\n",
      "aliens\n",
      "sharia\n",
      "berkeley\n",
      "criminals\n",
      "workplace\n",
      "refugees\n",
      "funded\n",
      "thugs\n",
      "reform\n",
      "existing\n"
     ]
    }
   ],
   "source": [
    "compare('obama')"
   ]
  },
  {
   "cell_type": "code",
   "execution_count": 21,
   "metadata": {},
   "outputs": [
    {
     "data": {
      "text/markdown": [
       "# god"
      ],
      "text/plain": [
       "<IPython.core.display.Markdown object>"
      ]
     },
     "metadata": {},
     "output_type": "display_data"
    },
    {
     "data": {
      "text/markdown": [
       "#### New England"
      ],
      "text/plain": [
       "<IPython.core.display.Markdown object>"
      ]
     },
     "metadata": {},
     "output_type": "display_data"
    },
    {
     "name": "stdout",
     "output_type": "stream",
     "text": [
      "😭😭\n",
      "ugh\n",
      "😭\n",
      "dang\n",
      "😭😭😭\n",
      "damn\n",
      "omg\n",
      "😂😂😂😂\n",
      "😂😂😂\n",
      "wtf\n",
      "lol\n",
      "lmao\n",
      "😂😂\n",
      "bruh\n",
      "lmfao\n",
      "😑\n",
      "oh\n",
      "fucking\n",
      "😭😭😭😭\n",
      "gosh\n",
      "\n",
      "\n"
     ]
    },
    {
     "data": {
      "text/markdown": [
       "#### South"
      ],
      "text/plain": [
       "<IPython.core.display.Markdown object>"
      ]
     },
     "metadata": {},
     "output_type": "display_data"
    },
    {
     "name": "stdout",
     "output_type": "stream",
     "text": [
      "given\n",
      "shall\n",
      "whom\n",
      "sacrifice\n",
      "ability\n",
      "serve\n",
      "therefore\n",
      "seek\n",
      "willing\n",
      "desire\n",
      "overcome\n",
      "others\n",
      "faithful\n",
      "among\n",
      "receive\n",
      "honor\n",
      "nor\n",
      "circumstances\n",
      "fear\n",
      "understanding\n"
     ]
    }
   ],
   "source": [
    "compare('god')"
   ]
  },
  {
   "cell_type": "code",
   "execution_count": 22,
   "metadata": {},
   "outputs": [
    {
     "data": {
      "text/markdown": [
       "# clinton"
      ],
      "text/plain": [
       "<IPython.core.display.Markdown object>"
      ]
     },
     "metadata": {},
     "output_type": "display_data"
    },
    {
     "data": {
      "text/markdown": [
       "#### New England"
      ],
      "text/plain": [
       "<IPython.core.display.Markdown object>"
      ]
     },
     "metadata": {},
     "output_type": "display_data"
    },
    {
     "name": "stdout",
     "output_type": "stream",
     "text": [
      "searching\n",
      "primary\n",
      "select\n",
      "voters\n",
      "probe\n",
      "explosion\n",
      "listings\n",
      "interior\n",
      "northern\n",
      "mplus\n",
      "stores\n",
      "buildings\n",
      "steam\n",
      "investigating\n",
      "sale\n",
      "residents\n",
      "elementary\n",
      "uk\n",
      "supporters\n",
      "homes\n",
      "\n",
      "\n"
     ]
    },
    {
     "data": {
      "text/markdown": [
       "#### South"
      ],
      "text/plain": [
       "<IPython.core.display.Markdown object>"
      ]
     },
     "metadata": {},
     "output_type": "display_data"
    },
    {
     "name": "stdout",
     "output_type": "stream",
     "text": [
      "pos\n",
      "traitor\n",
      "hypocrite\n",
      "liar\n",
      "lying\n",
      "moron\n",
      "loser\n",
      "disgusting\n",
      "disgrace\n",
      "shame\n",
      "asshole\n",
      "aaron\n",
      "a\n",
      "bill\n",
      "coward\n",
      "treason\n",
      "idiot\n",
      "bullshit\n",
      "goat\n",
      "jake\n"
     ]
    }
   ],
   "source": [
    "compare('clinton')"
   ]
  },
  {
   "cell_type": "code",
   "execution_count": 23,
   "metadata": {},
   "outputs": [
    {
     "data": {
      "text/markdown": [
       "# hands"
      ],
      "text/plain": [
       "<IPython.core.display.Markdown object>"
      ]
     },
     "metadata": {},
     "output_type": "display_data"
    },
    {
     "data": {
      "text/markdown": [
       "#### New England"
      ],
      "text/plain": [
       "<IPython.core.display.Markdown object>"
      ]
     },
     "metadata": {},
     "output_type": "display_data"
    },
    {
     "name": "stdout",
     "output_type": "stream",
     "text": [
      "devices\n",
      "phones\n",
      "are\n",
      "accountable\n",
      "voters\n",
      "customers\n",
      "people\n",
      "consumers\n",
      "many\n",
      "supported\n",
      "foreign\n",
      "aware\n",
      "millennials\n",
      "considering\n",
      "aren\n",
      "ppl\n",
      "clients\n",
      "apps\n",
      "responsible\n",
      "companies\n",
      "\n",
      "\n"
     ]
    },
    {
     "data": {
      "text/markdown": [
       "#### South"
      ],
      "text/plain": [
       "<IPython.core.display.Markdown object>"
      ]
     },
     "metadata": {},
     "output_type": "display_data"
    },
    {
     "name": "stdout",
     "output_type": "stream",
     "text": [
      "chest\n",
      "throat\n",
      "punch\n",
      "finger\n",
      "catch\n",
      "deck\n",
      "throws\n",
      "balls\n",
      "cage\n",
      "td\n",
      "breath\n",
      "touchdown\n",
      "rodgers\n",
      "bird\n",
      "fish\n",
      "dragon\n",
      "toe\n",
      "upper\n",
      "superman\n",
      "sweat\n"
     ]
    }
   ],
   "source": [
    "compare('hands')"
   ]
  },
  {
   "cell_type": "code",
   "execution_count": 39,
   "metadata": {},
   "outputs": [
    {
     "data": {
      "text/markdown": [
       "# heart"
      ],
      "text/plain": [
       "<IPython.core.display.Markdown object>"
      ]
     },
     "metadata": {},
     "output_type": "display_data"
    },
    {
     "data": {
      "text/markdown": [
       "#### New England"
      ],
      "text/plain": [
       "<IPython.core.display.Markdown object>"
      ]
     },
     "metadata": {},
     "output_type": "display_data"
    },
    {
     "name": "stdout",
     "output_type": "stream",
     "text": [
      "risk\n",
      "reduce\n",
      "risks\n",
      "linked\n",
      "increased\n",
      "related\n",
      "rate\n",
      "prevent\n",
      "associated\n",
      "research\n",
      "المنزل\n",
      "cell\n",
      "carbon\n",
      "disease\n",
      "diabetes\n",
      "increase\n",
      "health\n",
      "management\n",
      "improve\n",
      "drug\n",
      "\n",
      "\n"
     ]
    },
    {
     "data": {
      "text/markdown": [
       "#### South"
      ],
      "text/plain": [
       "<IPython.core.display.Markdown object>"
      ]
     },
     "metadata": {},
     "output_type": "display_data"
    },
    {
     "name": "stdout",
     "output_type": "stream",
     "text": [
      "sooo\n",
      "soooo\n",
      "omg\n",
      "love\n",
      "soo\n",
      "😍\n",
      "awww\n",
      "😍😍😍\n",
      "so\n",
      "awe\n",
      "aww\n",
      "😭❤\n",
      "😊\n",
      "ugh\n",
      "thank\n",
      "sooooo\n",
      "😍😍\n",
      "bless\n",
      "awwww\n",
      "aw\n"
     ]
    }
   ],
   "source": [
    "compare('heart')"
   ]
  },
  {
   "cell_type": "code",
   "execution_count": 24,
   "metadata": {},
   "outputs": [
    {
     "data": {
      "text/markdown": [
       "# mother"
      ],
      "text/plain": [
       "<IPython.core.display.Markdown object>"
      ]
     },
     "metadata": {},
     "output_type": "display_data"
    },
    {
     "data": {
      "text/markdown": [
       "#### New England"
      ],
      "text/plain": [
       "<IPython.core.display.Markdown object>"
      ]
     },
     "metadata": {},
     "output_type": "display_data"
    },
    {
     "name": "stdout",
     "output_type": "stream",
     "text": [
      "beautiful\n",
      "blessed\n",
      "gorgeous\n",
      "woman\n",
      "classy\n",
      "stunning\n",
      "powerful\n",
      "lovely\n",
      "faithful\n",
      "inspirational\n",
      "truly\n",
      "attractive\n",
      "divine\n",
      "strong\n",
      "chic\n",
      "necklace\n",
      "pretty\n",
      "sexy\n",
      "inspiration\n",
      "thankful\n",
      "\n",
      "\n"
     ]
    },
    {
     "data": {
      "text/markdown": [
       "#### South"
      ],
      "text/plain": [
       "<IPython.core.display.Markdown object>"
      ]
     },
     "metadata": {},
     "output_type": "display_data"
    },
    {
     "name": "stdout",
     "output_type": "stream",
     "text": [
      "kids\n",
      "babies\n",
      "parents\n",
      "illegals\n",
      "medicare\n",
      "children\n",
      "meds\n",
      "adults\n",
      "drugs\n",
      "weren\n",
      "cartoons\n",
      "medicaid\n",
      "recall\n",
      "pets\n",
      "olds\n",
      "gen\n",
      "vets\n",
      "allergies\n",
      "programs\n",
      "jokes\n"
     ]
    }
   ],
   "source": [
    "compare('mother')"
   ]
  },
  {
   "cell_type": "code",
   "execution_count": 35,
   "metadata": {},
   "outputs": [
    {
     "data": {
      "text/markdown": [
       "# media"
      ],
      "text/plain": [
       "<IPython.core.display.Markdown object>"
      ]
     },
     "metadata": {},
     "output_type": "display_data"
    },
    {
     "data": {
      "text/markdown": [
       "#### New England"
      ],
      "text/plain": [
       "<IPython.core.display.Markdown object>"
      ]
     },
     "metadata": {},
     "output_type": "display_data"
    },
    {
     "name": "stdout",
     "output_type": "stream",
     "text": [
      "corrupt\n",
      "lying\n",
      "dems\n",
      "traitor\n",
      "democrats\n",
      "potus\n",
      "democrat\n",
      "msm\n",
      "gop\n",
      "he\n",
      "politicians\n",
      "elected\n",
      "djt\n",
      "idiot\n",
      "republican\n",
      "bs\n",
      "obama\n",
      "disgrace\n",
      "hrc\n",
      "asshole\n",
      "\n",
      "\n"
     ]
    },
    {
     "data": {
      "text/markdown": [
       "#### South"
      ],
      "text/plain": [
       "<IPython.core.display.Markdown object>"
      ]
     },
     "metadata": {},
     "output_type": "display_data"
    },
    {
     "name": "stdout",
     "output_type": "stream",
     "text": [
      "wordpress\n",
      "website\n",
      "tools\n",
      "photography\n",
      "seo\n",
      "instagram\n",
      "tips\n",
      "apps\n",
      "online\n",
      "design\n",
      "pinterest\n",
      "app\n",
      "analytics\n",
      "sites\n",
      "blog\n",
      "web\n",
      "pages\n",
      "page\n",
      "site\n",
      "linkedin\n"
     ]
    }
   ],
   "source": [
    "compare('media')"
   ]
  },
  {
   "cell_type": "code",
   "execution_count": 63,
   "metadata": {},
   "outputs": [
    {
     "data": {
      "text/markdown": [
       "# depression"
      ],
      "text/plain": [
       "<IPython.core.display.Markdown object>"
      ]
     },
     "metadata": {},
     "output_type": "display_data"
    },
    {
     "data": {
      "text/markdown": [
       "#### New England"
      ],
      "text/plain": [
       "<IPython.core.display.Markdown object>"
      ]
     },
     "metadata": {},
     "output_type": "display_data"
    },
    {
     "name": "stdout",
     "output_type": "stream",
     "text": [
      "cancer\n",
      "breast\n",
      "patients\n",
      "surgery\n",
      "exercise\n",
      "improve\n",
      "reduce\n",
      "recovery\n",
      "research\n",
      "treatment\n",
      "study\n",
      "brain\n",
      "hospital\n",
      "diabetes\n",
      "workout\n",
      "program\n",
      "efficient\n",
      "helps\n",
      "training\n",
      "programs\n",
      "\n",
      "\n"
     ]
    },
    {
     "data": {
      "text/markdown": [
       "#### South"
      ],
      "text/plain": [
       "<IPython.core.display.Markdown object>"
      ]
     },
     "metadata": {},
     "output_type": "display_data"
    },
    {
     "name": "stdout",
     "output_type": "stream",
     "text": [
      "identity\n",
      "confusion\n",
      "irony\n",
      "tragedy\n",
      "fears\n",
      "mentality\n",
      "weirdest\n",
      "experiencing\n",
      "lies\n",
      "racists\n",
      "outrage\n",
      "nightmares\n",
      "literal\n",
      "snowflakes\n",
      "irl\n",
      "thief\n",
      "ironic\n",
      "religious\n",
      "tapes\n",
      "supremacy\n"
     ]
    }
   ],
   "source": [
    "compare('depression')"
   ]
  },
  {
   "cell_type": "code",
   "execution_count": 36,
   "metadata": {},
   "outputs": [
    {
     "data": {
      "text/markdown": [
       "# american"
      ],
      "text/plain": [
       "<IPython.core.display.Markdown object>"
      ]
     },
     "metadata": {},
     "output_type": "display_data"
    },
    {
     "data": {
      "text/markdown": [
       "#### New England"
      ],
      "text/plain": [
       "<IPython.core.display.Markdown object>"
      ]
     },
     "metadata": {},
     "output_type": "display_data"
    },
    {
     "name": "stdout",
     "output_type": "stream",
     "text": [
      "comics\n",
      "horror\n",
      "film\n",
      "western\n",
      "wood\n",
      "wars\n",
      "movies\n",
      "marvel\n",
      "french\n",
      "series\n",
      "flash\n",
      "box\n",
      "superhero\n",
      "toy\n",
      "movie\n",
      "discussion\n",
      "art\n",
      "sci\n",
      "photography\n",
      "films\n",
      "\n",
      "\n"
     ]
    },
    {
     "data": {
      "text/markdown": [
       "#### South"
      ],
      "text/plain": [
       "<IPython.core.display.Markdown object>"
      ]
     },
     "metadata": {},
     "output_type": "display_data"
    },
    {
     "name": "stdout",
     "output_type": "stream",
     "text": [
      "approval\n",
      "administration\n",
      "taxpayers\n",
      "states\n",
      "united\n",
      "irs\n",
      "سبحانك\n",
      "law\n",
      "illegal\n",
      "therefore\n",
      "taxes\n",
      "feds\n",
      "president\n",
      "government\n",
      "mexico\n",
      "federal\n",
      "trusted\n",
      "graduated\n",
      "tax\n",
      "seeking\n"
     ]
    }
   ],
   "source": [
    "compare('american')"
   ]
  },
  {
   "cell_type": "code",
   "execution_count": 37,
   "metadata": {},
   "outputs": [
    {
     "data": {
      "text/markdown": [
       "# home"
      ],
      "text/plain": [
       "<IPython.core.display.Markdown object>"
      ]
     },
     "metadata": {},
     "output_type": "display_data"
    },
    {
     "data": {
      "text/markdown": [
       "#### New England"
      ],
      "text/plain": [
       "<IPython.core.display.Markdown object>"
      ]
     },
     "metadata": {},
     "output_type": "display_data"
    },
    {
     "name": "stdout",
     "output_type": "stream",
     "text": [
      "estate\n",
      "sales\n",
      "market\n",
      "listings\n",
      "automation\n",
      "businesses\n",
      "rental\n",
      "cars\n",
      "marketing\n",
      "homes\n",
      "property\n",
      "virtual\n",
      "luxury\n",
      "mls\n",
      "enterprise\n",
      "platform\n",
      "analytics\n",
      "properties\n",
      "premium\n",
      "بسم\n",
      "\n",
      "\n"
     ]
    },
    {
     "data": {
      "text/markdown": [
       "#### South"
      ],
      "text/plain": [
       "<IPython.core.display.Markdown object>"
      ]
     },
     "metadata": {},
     "output_type": "display_data"
    },
    {
     "name": "stdout",
     "output_type": "stream",
     "text": [
      "sleep\n",
      "nap\n",
      "😴\n",
      "woke\n",
      "asleep\n",
      "wake\n",
      "bed\n",
      "goodnight\n",
      "sleepy\n",
      "lay\n",
      "knowing\n",
      "up\n",
      "waking\n",
      "hungry\n",
      "suppose\n",
      "awake\n",
      "😌\n",
      "rest\n",
      "then\n",
      "feeling\n"
     ]
    }
   ],
   "source": [
    "compare('home')"
   ]
  },
  {
   "cell_type": "code",
   "execution_count": 48,
   "metadata": {},
   "outputs": [
    {
     "data": {
      "text/markdown": [
       "# blood"
      ],
      "text/plain": [
       "<IPython.core.display.Markdown object>"
      ]
     },
     "metadata": {},
     "output_type": "display_data"
    },
    {
     "data": {
      "text/markdown": [
       "#### New England"
      ],
      "text/plain": [
       "<IPython.core.display.Markdown object>"
      ]
     },
     "metadata": {},
     "output_type": "display_data"
    },
    {
     "name": "stdout",
     "output_type": "stream",
     "text": [
      "reduce\n",
      "impact\n",
      "managing\n",
      "improve\n",
      "increase\n",
      "boost\n",
      "levels\n",
      "costs\n",
      "affect\n",
      "uncharacteristical\n",
      "prevent\n",
      "rate\n",
      "financial\n",
      "stress\n",
      "research\n",
      "overall\n",
      "energy\n",
      "risk\n",
      "cancer\n",
      "cost\n",
      "\n",
      "\n"
     ]
    },
    {
     "data": {
      "text/markdown": [
       "#### South"
      ],
      "text/plain": [
       "<IPython.core.display.Markdown object>"
      ]
     },
     "metadata": {},
     "output_type": "display_data"
    },
    {
     "name": "stdout",
     "output_type": "stream",
     "text": [
      "jesus\n",
      "christ\n",
      "hood\n",
      "washed\n",
      "god\n",
      "choir\n",
      "boy\n",
      "playing\n",
      "mud\n",
      "stood\n",
      "came\n",
      "lamb\n",
      "walked\n",
      "lord\n",
      "window\n",
      "faithful\n",
      "ugly\n",
      "died\n",
      "turned\n",
      "uncle\n"
     ]
    }
   ],
   "source": [
    "compare('blood')"
   ]
  },
  {
   "cell_type": "code",
   "execution_count": 41,
   "metadata": {},
   "outputs": [
    {
     "data": {
      "text/markdown": [
       "# i"
      ],
      "text/plain": [
       "<IPython.core.display.Markdown object>"
      ]
     },
     "metadata": {},
     "output_type": "display_data"
    },
    {
     "data": {
      "text/markdown": [
       "#### New England"
      ],
      "text/plain": [
       "<IPython.core.display.Markdown object>"
      ]
     },
     "metadata": {},
     "output_type": "display_data"
    },
    {
     "name": "stdout",
     "output_type": "stream",
     "text": [
      "saw\n",
      "recently\n",
      "visited\n",
      "icymi\n",
      "wrote\n",
      "forgot\n",
      "did\n",
      "brought\n",
      "segment\n",
      "shared\n",
      "originally\n",
      "showed\n",
      "created\n",
      "attended\n",
      "had\n",
      "similar\n",
      "came\n",
      "stole\n",
      "reminds\n",
      "spoke\n",
      "\n",
      "\n"
     ]
    },
    {
     "data": {
      "text/markdown": [
       "#### South"
      ],
      "text/plain": [
       "<IPython.core.display.Markdown object>"
      ]
     },
     "metadata": {},
     "output_type": "display_data"
    },
    {
     "name": "stdout",
     "output_type": "stream",
     "text": [
      "anymore\n",
      "m\n",
      "😴\n",
      "😤\n",
      "♀\n",
      "😪\n",
      "🙃\n",
      "🏻\n",
      "am\n",
      "still\n",
      "🏼\n",
      "😕\n",
      "😌\n",
      "🙄\n",
      "im\n",
      "😭\n",
      "♂\n",
      "😔\n",
      "idc\n",
      "🏾\n"
     ]
    }
   ],
   "source": [
    "compare('i')"
   ]
  },
  {
   "cell_type": "code",
   "execution_count": 46,
   "metadata": {},
   "outputs": [
    {
     "data": {
      "text/markdown": [
       "# he"
      ],
      "text/plain": [
       "<IPython.core.display.Markdown object>"
      ]
     },
     "metadata": {},
     "output_type": "display_data"
    },
    {
     "data": {
      "text/markdown": [
       "#### New England"
      ],
      "text/plain": [
       "<IPython.core.display.Markdown object>"
      ]
     },
     "metadata": {},
     "output_type": "display_data"
    },
    {
     "name": "stdout",
     "output_type": "stream",
     "text": [
      "potus\n",
      "djt\n",
      "trump\n",
      "dt\n",
      "prez\n",
      "administration\n",
      "presidency\n",
      "trumps\n",
      "breitbart\n",
      "president\n",
      "pence\n",
      "wh\n",
      "donald\n",
      "admin\n",
      "russia\n",
      "bannon\n",
      "putin\n",
      "resign\n",
      "traitor\n",
      "cnn\n",
      "\n",
      "\n"
     ]
    },
    {
     "data": {
      "text/markdown": [
       "#### South"
      ],
      "text/plain": [
       "<IPython.core.display.Markdown object>"
      ]
     },
     "metadata": {},
     "output_type": "display_data"
    },
    {
     "name": "stdout",
     "output_type": "stream",
     "text": [
      "idk\n",
      "bruh\n",
      "lol\n",
      "tho\n",
      "lmao\n",
      "damn\n",
      "nah\n",
      "🏾\n",
      "tbh\n",
      "like\n",
      "😭\n",
      "some\n",
      "lmaoo\n",
      "yea\n",
      "i\n",
      "tf\n",
      "😭😭\n",
      "yeah\n",
      "😂😂\n",
      "imma\n"
     ]
    }
   ],
   "source": [
    "compare('he')"
   ]
  },
  {
   "cell_type": "code",
   "execution_count": 47,
   "metadata": {},
   "outputs": [
    {
     "data": {
      "text/markdown": [
       "# she"
      ],
      "text/plain": [
       "<IPython.core.display.Markdown object>"
      ]
     },
     "metadata": {},
     "output_type": "display_data"
    },
    {
     "data": {
      "text/markdown": [
       "#### New England"
      ],
      "text/plain": [
       "<IPython.core.display.Markdown object>"
      ]
     },
     "metadata": {},
     "output_type": "display_data"
    },
    {
     "name": "stdout",
     "output_type": "stream",
     "text": [
      "believes\n",
      "voters\n",
      "politician\n",
      "hrc\n",
      "potus\n",
      "democrat\n",
      "gop\n",
      "djt\n",
      "dnc\n",
      "claims\n",
      "supported\n",
      "republican\n",
      "doj\n",
      "whether\n",
      "unable\n",
      "directly\n",
      "وأعوذ\n",
      "candidate\n",
      "who\n",
      "enters\n",
      "\n",
      "\n"
     ]
    },
    {
     "data": {
      "text/markdown": [
       "#### South"
      ],
      "text/plain": [
       "<IPython.core.display.Markdown object>"
      ]
     },
     "metadata": {},
     "output_type": "display_data"
    },
    {
     "name": "stdout",
     "output_type": "stream",
     "text": [
      "mama\n",
      "momma\n",
      "lil\n",
      "bruh\n",
      "baby\n",
      "finna\n",
      "sis\n",
      "😭😭\n",
      "😭\n",
      "ain\n",
      "asf\n",
      "fr\n",
      "dawg\n",
      "bout\n",
      "😂😂\n",
      "tho\n",
      "😂😂😂\n",
      "bro\n",
      "😭😭😭\n",
      "ima\n"
     ]
    }
   ],
   "source": [
    "compare('she')"
   ]
  },
  {
   "cell_type": "markdown",
   "metadata": {},
   "source": [
    "# Stability / significance concerns"
   ]
  },
  {
   "cell_type": "code",
   "execution_count": 80,
   "metadata": {},
   "outputs": [
    {
     "data": {
      "text/markdown": [
       "# earth"
      ],
      "text/plain": [
       "<IPython.core.display.Markdown object>"
      ]
     },
     "metadata": {},
     "output_type": "display_data"
    },
    {
     "data": {
      "text/markdown": [
       "#### New England"
      ],
      "text/plain": [
       "<IPython.core.display.Markdown object>"
      ]
     },
     "metadata": {},
     "output_type": "display_data"
    },
    {
     "name": "stdout",
     "output_type": "stream",
     "text": [
      "scientists\n",
      "climate\n",
      "economic\n",
      "environment\n",
      "careers\n",
      "managing\n",
      "effects\n",
      "affects\n",
      "solve\n",
      "environmental\n",
      "species\n",
      "policies\n",
      "impact\n",
      "diff\n",
      "science\n",
      "humans\n",
      "communities\n",
      "epa\n",
      "resources\n",
      "global\n",
      "\n",
      "\n"
     ]
    },
    {
     "data": {
      "text/markdown": [
       "#### South"
      ],
      "text/plain": [
       "<IPython.core.display.Markdown object>"
      ]
     },
     "metadata": {},
     "output_type": "display_data"
    },
    {
     "name": "stdout",
     "output_type": "stream",
     "text": [
      "lord\n",
      "jesus\n",
      "praise\n",
      "shall\n",
      "christ\n",
      "glory\n",
      "god\n",
      "grace\n",
      "amen\n",
      "heaven\n",
      "mercy\n",
      "matthew\n",
      "worship\n",
      "goodness\n",
      "whom\n",
      "choir\n",
      "faithful\n",
      "shawn\n",
      "gods\n",
      "holy\n"
     ]
    }
   ],
   "source": [
    "compare('earth', 40)"
   ]
  },
  {
   "cell_type": "code",
   "execution_count": 81,
   "metadata": {},
   "outputs": [
    {
     "data": {
      "text/markdown": [
       "# hillary"
      ],
      "text/plain": [
       "<IPython.core.display.Markdown object>"
      ]
     },
     "metadata": {},
     "output_type": "display_data"
    },
    {
     "data": {
      "text/markdown": [
       "#### New England"
      ],
      "text/plain": [
       "<IPython.core.display.Markdown object>"
      ]
     },
     "metadata": {},
     "output_type": "display_data"
    },
    {
     "name": "stdout",
     "output_type": "stream",
     "text": [
      "mama\n",
      "momma\n",
      "mommy\n",
      "shawty\n",
      "smile\n",
      "wassup\n",
      "cause\n",
      "me\n",
      "cuz\n",
      "beyoncé\n",
      "ik\n",
      "mom\n",
      "fan\n",
      "mia\n",
      "deadass\n",
      "😭\n",
      "bro\n",
      "ima\n",
      "she\n",
      "bruh\n",
      "\n",
      "\n"
     ]
    },
    {
     "data": {
      "text/markdown": [
       "#### South"
      ],
      "text/plain": [
       "<IPython.core.display.Markdown object>"
      ]
     },
     "metadata": {},
     "output_type": "display_data"
    },
    {
     "name": "stdout",
     "output_type": "stream",
     "text": [
      "treason\n",
      "russian\n",
      "democratic\n",
      "elected\n",
      "republican\n",
      "congress\n",
      "elections\n",
      "officials\n",
      "government\n",
      "senate\n",
      "democracy\n",
      "traitor\n",
      "gop\n",
      "corruption\n",
      "govt\n",
      "collusion\n",
      "citizens\n",
      "russia\n",
      "politicians\n",
      "lawmakers\n"
     ]
    }
   ],
   "source": [
    "compare('hillary', 50)"
   ]
  },
  {
   "cell_type": "code",
   "execution_count": 79,
   "metadata": {},
   "outputs": [
    {
     "data": {
      "text/markdown": [
       "# tide"
      ],
      "text/plain": [
       "<IPython.core.display.Markdown object>"
      ]
     },
     "metadata": {},
     "output_type": "display_data"
    },
    {
     "data": {
      "text/markdown": [
       "#### New England"
      ],
      "text/plain": [
       "<IPython.core.display.Markdown object>"
      ]
     },
     "metadata": {},
     "output_type": "display_data"
    },
    {
     "name": "stdout",
     "output_type": "stream",
     "text": [
      "fog\n",
      "wax\n",
      "skies\n",
      "temperature\n",
      "hum\n",
      "barometer\n",
      "ப\n",
      "س\n",
      "diamonds\n",
      "concrete\n",
      "ا\n",
      "mist\n",
      "र\n",
      "ن\n",
      "ம\n",
      "த\n",
      "amounts\n",
      "ي\n",
      "floating\n",
      "invisible\n",
      "\n",
      "\n"
     ]
    },
    {
     "data": {
      "text/markdown": [
       "#### South"
      ],
      "text/plain": [
       "<IPython.core.display.Markdown object>"
      ]
     },
     "metadata": {},
     "output_type": "display_data"
    },
    {
     "name": "stdout",
     "output_type": "stream",
     "text": [
      "football\n",
      "auburn\n",
      "coach\n",
      "qb\n",
      "baseball\n",
      "players\n",
      "alabama\n",
      "offense\n",
      "basketball\n",
      "coaches\n",
      "nfl\n",
      "patriots\n",
      "wr\n",
      "falcons\n",
      "ncaa\n",
      "teams\n",
      "offensive\n",
      "ole\n",
      "player\n",
      "defense\n"
     ]
    }
   ],
   "source": [
    "compare('tide')"
   ]
  },
  {
   "cell_type": "code",
   "execution_count": null,
   "metadata": {},
   "outputs": [],
   "source": []
  }
 ],
 "metadata": {
  "kernelspec": {
   "display_name": "Python 3",
   "language": "python",
   "name": "python3"
  },
  "language_info": {
   "codemirror_mode": {
    "name": "ipython",
    "version": 3
   },
   "file_extension": ".py",
   "mimetype": "text/x-python",
   "name": "python",
   "nbconvert_exporter": "python",
   "pygments_lexer": "ipython3",
   "version": "3.6.2"
  }
 },
 "nbformat": 4,
 "nbformat_minor": 2
}
