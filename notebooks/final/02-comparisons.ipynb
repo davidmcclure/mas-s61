{
 "cells": [
  {
   "cell_type": "markdown",
   "metadata": {},
   "source": [
    "# Direct nearest-neighbor comparisons"
   ]
  },
  {
   "cell_type": "code",
   "execution_count": 6,
   "metadata": {},
   "outputs": [],
   "source": [
    "import numpy as np\n",
    "import pandas as pd\n",
    "\n",
    "from gensim.models import KeyedVectors\n",
    "from scipy.spatial.distance import cosine\n",
    "from tqdm import tqdm_notebook\n",
    "\n",
    "from sources import parse_glove_vocab\n",
    "\n",
    "from IPython.display import Markdown, display"
   ]
  },
  {
   "cell_type": "code",
   "execution_count": 2,
   "metadata": {},
   "outputs": [],
   "source": [
    "import matplotlib as mpl\n",
    "import matplotlib.pyplot as plt\n",
    "\n",
    "%matplotlib inline\n",
    "mpl.style.use('bmh')"
   ]
  },
  {
   "cell_type": "code",
   "execution_count": 3,
   "metadata": {},
   "outputs": [],
   "source": [
    "pd.options.display.max_rows = 1000"
   ]
  },
  {
   "cell_type": "code",
   "execution_count": 4,
   "metadata": {},
   "outputs": [],
   "source": [
    "m1 = KeyedVectors.load_word2vec_format('../../data/corpora/north-south/new-england.w2v.txt')"
   ]
  },
  {
   "cell_type": "code",
   "execution_count": 5,
   "metadata": {},
   "outputs": [],
   "source": [
    "m2 = KeyedVectors.load_word2vec_format('../../data/corpora/north-south/deep-south.w2v.txt')"
   ]
  },
  {
   "cell_type": "code",
   "execution_count": 13,
   "metadata": {},
   "outputs": [],
   "source": [
    "def compare(token, n=20):\n",
    "    display(Markdown(f'# {token}'))\n",
    "    display(Markdown(f'#### New England'))\n",
    "    for t, _ in m1.most_similar(token, topn=n):\n",
    "        print(t)\n",
    "    print('\\n')\n",
    "    display(Markdown(f'#### South'))\n",
    "    for t, _ in m2.most_similar(token, topn=n):\n",
    "        print(t)"
   ]
  },
  {
   "cell_type": "code",
   "execution_count": 16,
   "metadata": {},
   "outputs": [
    {
     "data": {
      "text/markdown": [
       "# future"
      ],
      "text/plain": [
       "<IPython.core.display.Markdown object>"
      ]
     },
     "metadata": {},
     "output_type": "display_data"
    },
    {
     "data": {
      "text/markdown": [
       "#### New England"
      ],
      "text/plain": [
       "<IPython.core.display.Markdown object>"
      ]
     },
     "metadata": {},
     "output_type": "display_data"
    },
    {
     "name": "stdout",
     "output_type": "stream",
     "text": [
      "present\n",
      "generations\n",
      "predict\n",
      "vision\n",
      "husband\n",
      "bright\n",
      "belongs\n",
      "distant\n",
      "environment\n",
      "role\n",
      "grades\n",
      "develop\n",
      "upcoming\n",
      "focused\n",
      "generation\n",
      "gadgets\n",
      "allah\n",
      "past\n",
      "change\n",
      "potential\n",
      "\n",
      "\n"
     ]
    },
    {
     "data": {
      "text/markdown": [
       "#### South"
      ],
      "text/plain": [
       "<IPython.core.display.Markdown object>"
      ]
     },
     "metadata": {},
     "output_type": "display_data"
    },
    {
     "name": "stdout",
     "output_type": "stream",
     "text": [
      "drake\n",
      "present\n",
      "bright\n",
      "husband\n",
      "type\n",
      "young\n",
      "migos\n",
      "rihanna\n",
      "jay\n",
      "uzi\n",
      "gadgets\n",
      "chris\n",
      "rick\n",
      "kendrick\n",
      "wayne\n",
      "distant\n",
      "dream\n",
      "album\n",
      "ross\n",
      "metro\n"
     ]
    }
   ],
   "source": [
    "compare('future')"
   ]
  },
  {
   "cell_type": "code",
   "execution_count": 17,
   "metadata": {},
   "outputs": [
    {
     "data": {
      "text/markdown": [
       "# labor"
      ],
      "text/plain": [
       "<IPython.core.display.Markdown object>"
      ]
     },
     "metadata": {},
     "output_type": "display_data"
    },
    {
     "data": {
      "text/markdown": [
       "#### New England"
      ],
      "text/plain": [
       "<IPython.core.display.Markdown object>"
      ]
     },
     "metadata": {},
     "output_type": "display_data"
    },
    {
     "name": "stdout",
     "output_type": "stream",
     "text": [
      "wage\n",
      "secretary\n",
      "worker\n",
      "slave\n",
      "workers\n",
      "civil\n",
      "spending\n",
      "general\n",
      "independence\n",
      "force\n",
      "nominee\n",
      "minimum\n",
      "dept\n",
      "department\n",
      "costs\n",
      "society\n",
      "welfare\n",
      "slavery\n",
      "manufacturing\n",
      "military\n",
      "\n",
      "\n"
     ]
    },
    {
     "data": {
      "text/markdown": [
       "#### South"
      ],
      "text/plain": [
       "<IPython.core.display.Markdown object>"
      ]
     },
     "metadata": {},
     "output_type": "display_data"
    },
    {
     "name": "stdout",
     "output_type": "stream",
     "text": [
      "kickoff\n",
      "weekend\n",
      "mansion\n",
      "finale\n",
      "day\n",
      "memorial\n",
      "mlk\n",
      "atl\n",
      "sunday\n",
      "private\n",
      "warehouse\n",
      "pool\n",
      "returns\n",
      "🙌🏾\n",
      "friday\n",
      "closing\n",
      "entry\n",
      "nights\n",
      "sept\n",
      "night\n"
     ]
    }
   ],
   "source": [
    "compare('labor')"
   ]
  },
  {
   "cell_type": "code",
   "execution_count": 19,
   "metadata": {},
   "outputs": [
    {
     "data": {
      "text/markdown": [
       "# tide"
      ],
      "text/plain": [
       "<IPython.core.display.Markdown object>"
      ]
     },
     "metadata": {},
     "output_type": "display_data"
    },
    {
     "data": {
      "text/markdown": [
       "#### New England"
      ],
      "text/plain": [
       "<IPython.core.display.Markdown object>"
      ]
     },
     "metadata": {},
     "output_type": "display_data"
    },
    {
     "name": "stdout",
     "output_type": "stream",
     "text": [
      "roll\n",
      "desert\n",
      "heels\n",
      "low\n",
      "flooding\n",
      "rising\n",
      "climb\n",
      "tonite\n",
      "high\n",
      "heel\n",
      "winds\n",
      "unc\n",
      "rockin\n",
      "dip\n",
      "bend\n",
      "curve\n",
      "ease\n",
      "levels\n",
      "sunset\n",
      "م\n",
      "\n",
      "\n"
     ]
    },
    {
     "data": {
      "text/markdown": [
       "#### South"
      ],
      "text/plain": [
       "<IPython.core.display.Markdown object>"
      ]
     },
     "metadata": {},
     "output_type": "display_data"
    },
    {
     "name": "stdout",
     "output_type": "stream",
     "text": [
      "roll\n",
      "🏈\n",
      "alabama\n",
      "tigers\n",
      "football\n",
      "ole\n",
      "auburn\n",
      "touchdown\n",
      "softball\n",
      "kentucky\n",
      "coach\n",
      "eagles\n",
      "eagle\n",
      "falcons\n",
      "panthers\n",
      "arkansas\n",
      "carolina\n",
      "georgia\n",
      "trails\n",
      "baseball\n"
     ]
    }
   ],
   "source": [
    "compare('tide')"
   ]
  },
  {
   "cell_type": "code",
   "execution_count": 20,
   "metadata": {},
   "outputs": [
    {
     "data": {
      "text/markdown": [
       "# wicked"
      ],
      "text/plain": [
       "<IPython.core.display.Markdown object>"
      ]
     },
     "metadata": {},
     "output_type": "display_data"
    },
    {
     "data": {
      "text/markdown": [
       "#### New England"
      ],
      "text/plain": [
       "<IPython.core.display.Markdown object>"
      ]
     },
     "metadata": {},
     "output_type": "display_data"
    },
    {
     "name": "stdout",
     "output_type": "stream",
     "text": [
      "witch\n",
      "legends\n",
      "reader\n",
      "llc\n",
      "solutions\n",
      "cool\n",
      "hella\n",
      "soooooo\n",
      "feelin\n",
      "tasty\n",
      "killer\n",
      "funny\n",
      "soo\n",
      "jealous\n",
      "fun\n",
      "nerd\n",
      "temple\n",
      "pretty\n",
      "local\n",
      "darn\n",
      "\n",
      "\n"
     ]
    },
    {
     "data": {
      "text/markdown": [
       "#### South"
      ],
      "text/plain": [
       "<IPython.core.display.Markdown object>"
      ]
     },
     "metadata": {},
     "output_type": "display_data"
    },
    {
     "name": "stdout",
     "output_type": "stream",
     "text": [
      "witch\n",
      "shall\n",
      "matthew\n",
      "tales\n",
      "holy\n",
      "ye\n",
      "shadows\n",
      "ep\n",
      "souls\n",
      "beyond\n",
      "spirit\n",
      "evil\n",
      "unfortunate\n",
      "khaled\n",
      "fred\n",
      "weapon\n",
      "bastard\n",
      "thy\n",
      "creepy\n",
      "spoilers\n"
     ]
    }
   ],
   "source": [
    "compare('wicked')"
   ]
  },
  {
   "cell_type": "code",
   "execution_count": 14,
   "metadata": {},
   "outputs": [
    {
     "data": {
      "text/markdown": [
       "# beyond"
      ],
      "text/plain": [
       "<IPython.core.display.Markdown object>"
      ]
     },
     "metadata": {},
     "output_type": "display_data"
    },
    {
     "data": {
      "text/markdown": [
       "#### New England"
      ],
      "text/plain": [
       "<IPython.core.display.Markdown object>"
      ]
     },
     "metadata": {},
     "output_type": "display_data"
    },
    {
     "name": "stdout",
     "output_type": "stream",
     "text": [
      "exit\n",
      "belief\n",
      "miles\n",
      "cleared\n",
      "north\n",
      "south\n",
      "motor\n",
      "delays\n",
      "above\n",
      "updated\n",
      "accident\n",
      "far\n",
      "disgusted\n",
      "am\n",
      "incredibly\n",
      "vehicle\n",
      "west\n",
      "ridiculous\n",
      "absolutely\n",
      "traveled\n",
      "\n",
      "\n"
     ]
    },
    {
     "data": {
      "text/markdown": [
       "#### South"
      ],
      "text/plain": [
       "<IPython.core.display.Markdown object>"
      ]
     },
     "metadata": {},
     "output_type": "display_data"
    },
    {
     "name": "stdout",
     "output_type": "stream",
     "text": [
      "belief\n",
      "measure\n",
      "incredibly\n",
      "above\n",
      "far\n",
      "worlds\n",
      "blessed\n",
      "truly\n",
      "disgusted\n",
      "thankful\n",
      "ridiculous\n",
      "grateful\n",
      "recognition\n",
      "stressed\n",
      "pissed\n",
      "wicked\n",
      "annoyed\n",
      "exhausted\n",
      "extremely\n",
      "amazing\n"
     ]
    }
   ],
   "source": [
    "compare('beyond')"
   ]
  },
  {
   "cell_type": "code",
   "execution_count": 15,
   "metadata": {},
   "outputs": [
    {
     "data": {
      "text/markdown": [
       "# void"
      ],
      "text/plain": [
       "<IPython.core.display.Markdown object>"
      ]
     },
     "metadata": {},
     "output_type": "display_data"
    },
    {
     "data": {
      "text/markdown": [
       "#### New England"
      ],
      "text/plain": [
       "<IPython.core.display.Markdown object>"
      ]
     },
     "metadata": {},
     "output_type": "display_data"
    },
    {
     "name": "stdout",
     "output_type": "stream",
     "text": [
      "fill\n",
      "empty\n",
      "filling\n",
      "remake\n",
      "<unk>\n",
      "opponent\n",
      "blank\n",
      "alice\n",
      "chains\n",
      "snakes\n",
      "speechless\n",
      "demon\n",
      "casey\n",
      "tj\n",
      "gut\n",
      "popped\n",
      "universe\n",
      "pitbull\n",
      "janet\n",
      "cowboy\n",
      "\n",
      "\n"
     ]
    },
    {
     "data": {
      "text/markdown": [
       "#### South"
      ],
      "text/plain": [
       "<IPython.core.display.Markdown object>"
      ]
     },
     "metadata": {},
     "output_type": "display_data"
    },
    {
     "name": "stdout",
     "output_type": "stream",
     "text": [
      "novel\n",
      "lies\n",
      "scandal\n",
      "failed\n",
      "fill\n",
      "hypocrisy\n",
      "weakness\n",
      "filling\n",
      "philosophy\n",
      "corruption\n",
      "issue\n",
      "repeal\n",
      "damned\n",
      "denial\n",
      "confusion\n",
      "rural\n",
      "politics\n",
      "surrounding\n",
      "distraction\n",
      "reject\n"
     ]
    }
   ],
   "source": [
    "compare('void')"
   ]
  },
  {
   "cell_type": "code",
   "execution_count": 18,
   "metadata": {},
   "outputs": [
    {
     "data": {
      "text/markdown": [
       "# shots"
      ],
      "text/plain": [
       "<IPython.core.display.Markdown object>"
      ]
     },
     "metadata": {},
     "output_type": "display_data"
    },
    {
     "data": {
      "text/markdown": [
       "#### New England"
      ],
      "text/plain": [
       "<IPython.core.display.Markdown object>"
      ]
     },
     "metadata": {},
     "output_type": "display_data"
    },
    {
     "name": "stdout",
     "output_type": "stream",
     "text": [
      "shot\n",
      "tequila\n",
      "fired\n",
      "screen\n",
      "shoot\n",
      "shooting\n",
      "henny\n",
      "exclusive\n",
      "pirate\n",
      "scored\n",
      "hitting\n",
      "foul\n",
      "hunter\n",
      "possession\n",
      "period\n",
      "pics\n",
      "firing\n",
      "trick\n",
      "couple\n",
      "captured\n",
      "\n",
      "\n"
     ]
    },
    {
     "data": {
      "text/markdown": [
       "#### South"
      ],
      "text/plain": [
       "<IPython.core.display.Markdown object>"
      ]
     },
     "metadata": {},
     "output_type": "display_data"
    },
    {
     "name": "stdout",
     "output_type": "stream",
     "text": [
      "ladies\n",
      "🌚\n",
      "wings\n",
      "👅\n",
      "til\n",
      "drinks\n",
      "henny\n",
      "30pm\n",
      "fights\n",
      "shot\n",
      "lap\n",
      "4th\n",
      "lit\n",
      "free\n",
      "gun\n",
      "🔥\n",
      "🔥🔥\n",
      "😜\n",
      "11\n",
      "whip\n"
     ]
    }
   ],
   "source": [
    "compare('shots')"
   ]
  },
  {
   "cell_type": "code",
   "execution_count": 21,
   "metadata": {},
   "outputs": [
    {
     "data": {
      "text/markdown": [
       "# labels"
      ],
      "text/plain": [
       "<IPython.core.display.Markdown object>"
      ]
     },
     "metadata": {},
     "output_type": "display_data"
    },
    {
     "data": {
      "text/markdown": [
       "#### New England"
      ],
      "text/plain": [
       "<IPython.core.display.Markdown object>"
      ]
     },
     "metadata": {},
     "output_type": "display_data"
    },
    {
     "name": "stdout",
     "output_type": "stream",
     "text": [
      "jar\n",
      "stickers\n",
      "mason\n",
      "tags\n",
      "label\n",
      "sticker\n",
      "covers\n",
      "gifts\n",
      "christmas\n",
      "valentines\n",
      "santa\n",
      "lemonade\n",
      "vinyl\n",
      "pandora\n",
      "confetti\n",
      "bride\n",
      "requirements\n",
      "peach\n",
      "yummy\n",
      "fabric\n",
      "\n",
      "\n"
     ]
    },
    {
     "data": {
      "text/markdown": [
       "#### South"
      ],
      "text/plain": [
       "<IPython.core.display.Markdown object>"
      ]
     },
     "metadata": {},
     "output_type": "display_data"
    },
    {
     "name": "stdout",
     "output_type": "stream",
     "text": [
      "charts\n",
      "soundcloud\n",
      "record\n",
      "users\n",
      "plays\n",
      "label\n",
      "promotion\n",
      "sticker\n",
      "click\n",
      "trend\n",
      "submit\n",
      "100k\n",
      "exposure\n",
      "promoted\n",
      "seen\n",
      "rappers\n",
      "tags\n",
      "bronze\n",
      "goodies\n",
      "increase\n"
     ]
    }
   ],
   "source": [
    "compare('labels')"
   ]
  },
  {
   "cell_type": "code",
   "execution_count": 22,
   "metadata": {},
   "outputs": [
    {
     "data": {
      "text/markdown": [
       "# predict"
      ],
      "text/plain": [
       "<IPython.core.display.Markdown object>"
      ]
     },
     "metadata": {},
     "output_type": "display_data"
    },
    {
     "data": {
      "text/markdown": [
       "#### New England"
      ],
      "text/plain": [
       "<IPython.core.display.Markdown object>"
      ]
     },
     "metadata": {},
     "output_type": "display_data"
    },
    {
     "name": "stdout",
     "output_type": "stream",
     "text": [
      "researchers\n",
      "determine\n",
      "scientists\n",
      "develop\n",
      "prevent\n",
      "identify\n",
      "experts\n",
      "risks\n",
      "suggests\n",
      "affect\n",
      "future\n",
      "artificial\n",
      "causes\n",
      "reduce\n",
      "risk\n",
      "prepare\n",
      "improve\n",
      "factor\n",
      "recover\n",
      "manage\n",
      "\n",
      "\n"
     ]
    },
    {
     "data": {
      "text/markdown": [
       "#### South"
      ],
      "text/plain": [
       "<IPython.core.display.Markdown object>"
      ]
     },
     "metadata": {},
     "output_type": "display_data"
    },
    {
     "name": "stdout",
     "output_type": "stream",
     "text": [
      "earn\n",
      "plays\n",
      "tix\n",
      "play\n",
      "points\n",
      "undefeated\n",
      "remain\n",
      "reverse\n",
      "sweeps\n",
      "trials\n",
      "compete\n",
      "rewards\n",
      "puzzle\n",
      "instant\n",
      "chess\n",
      "opponent\n",
      "outcome\n",
      "neutral\n",
      "spark\n",
      "increase\n"
     ]
    }
   ],
   "source": [
    "compare('predict')"
   ]
  },
  {
   "cell_type": "code",
   "execution_count": 23,
   "metadata": {},
   "outputs": [
    {
     "data": {
      "text/markdown": [
       "# inner"
      ],
      "text/plain": [
       "<IPython.core.display.Markdown object>"
      ]
     },
     "metadata": {},
     "output_type": "display_data"
    },
    {
     "data": {
      "text/markdown": [
       "#### New England"
      ],
      "text/plain": [
       "<IPython.core.display.Markdown object>"
      ]
     },
     "metadata": {},
     "output_type": "display_data"
    },
    {
     "name": "stdout",
     "output_type": "stream",
     "text": [
      "demons\n",
      "peace\n",
      "creates\n",
      "voice\n",
      "circle\n",
      "embrace\n",
      "confidence\n",
      "conflict\n",
      "cities\n",
      "angels\n",
      "strength\n",
      "bridges\n",
      "flesh\n",
      "surrounding\n",
      "divine\n",
      "imagination\n",
      "healing\n",
      "constant\n",
      "positivity\n",
      "spirit\n",
      "\n",
      "\n"
     ]
    },
    {
     "data": {
      "text/markdown": [
       "#### South"
      ],
      "text/plain": [
       "<IPython.core.display.Markdown object>"
      ]
     },
     "metadata": {},
     "output_type": "display_data"
    },
    {
     "name": "stdout",
     "output_type": "stream",
     "text": [
      "loop\n",
      "creates\n",
      "lane\n",
      "circle\n",
      "peace\n",
      "blu\n",
      "strength\n",
      "eb\n",
      "conflict\n",
      "delays\n",
      "cities\n",
      "embrace\n",
      "voice\n",
      "wb\n",
      "nerd\n",
      "tr\n",
      "powers\n",
      "nb\n",
      "causing\n",
      "sb\n"
     ]
    }
   ],
   "source": [
    "compare('inner')"
   ]
  },
  {
   "cell_type": "code",
   "execution_count": 24,
   "metadata": {},
   "outputs": [
    {
     "data": {
      "text/markdown": [
       "# faithful"
      ],
      "text/plain": [
       "<IPython.core.display.Markdown object>"
      ]
     },
     "metadata": {},
     "output_type": "display_data"
    },
    {
     "data": {
      "text/markdown": [
       "#### New England"
      ],
      "text/plain": [
       "<IPython.core.display.Markdown object>"
      ]
     },
     "metadata": {},
     "output_type": "display_data"
    },
    {
     "name": "stdout",
     "output_type": "stream",
     "text": [
      "loyal\n",
      "remain\n",
      "humble\n",
      "strive\n",
      "minded\n",
      "प\n",
      "consistent\n",
      "pastor\n",
      "لك\n",
      "به\n",
      "undefeated\n",
      "त\n",
      "foolish\n",
      "therefore\n",
      "ज\n",
      "motel\n",
      "satisfied\n",
      "classy\n",
      "active\n",
      "glory\n",
      "\n",
      "\n"
     ]
    },
    {
     "data": {
      "text/markdown": [
       "#### South"
      ],
      "text/plain": [
       "<IPython.core.display.Markdown object>"
      ]
     },
     "metadata": {},
     "output_type": "display_data"
    },
    {
     "name": "stdout",
     "output_type": "stream",
     "text": [
      "loyal\n",
      "humble\n",
      "consistent\n",
      "sins\n",
      "god\n",
      "honest\n",
      "therefore\n",
      "christ\n",
      "remain\n",
      "males\n",
      "forgive\n",
      "witness\n",
      "lord\n",
      "blessed\n",
      "men\n",
      "grateful\n",
      "forever\n",
      "satisfied\n",
      "thankful\n",
      "patient\n"
     ]
    }
   ],
   "source": [
    "compare('faithful')"
   ]
  },
  {
   "cell_type": "code",
   "execution_count": 25,
   "metadata": {},
   "outputs": [
    {
     "data": {
      "text/markdown": [
       "# swing"
      ],
      "text/plain": [
       "<IPython.core.display.Markdown object>"
      ]
     },
     "metadata": {},
     "output_type": "display_data"
    },
    {
     "data": {
      "text/markdown": [
       "#### New England"
      ],
      "text/plain": [
       "<IPython.core.display.Markdown object>"
      ]
     },
     "metadata": {},
     "output_type": "display_data"
    },
    {
     "name": "stdout",
     "output_type": "stream",
     "text": [
      "eager\n",
      "action\n",
      "closest\n",
      "district\n",
      "porch\n",
      "punk\n",
      "full\n",
      "direction\n",
      "bat\n",
      "bounce\n",
      "favor\n",
      "impress\n",
      "roll\n",
      "congressional\n",
      "moves\n",
      "come\n",
      "jam\n",
      "golf\n",
      "into\n",
      "ready\n",
      "\n",
      "\n"
     ]
    },
    {
     "data": {
      "text/markdown": [
       "#### South"
      ],
      "text/plain": [
       "<IPython.core.display.Markdown object>"
      ]
     },
     "metadata": {},
     "output_type": "display_data"
    },
    {
     "name": "stdout",
     "output_type": "stream",
     "text": [
      "porch\n",
      "seat\n",
      "foot\n",
      "angle\n",
      "roll\n",
      "set\n",
      "patio\n",
      "louisiana\n",
      "grandpa\n",
      "eager\n",
      "traditional\n",
      "jump\n",
      "groove\n",
      "frame\n",
      "action\n",
      "dancing\n",
      "diamond\n",
      "eternal\n",
      "front\n",
      "feet\n"
     ]
    }
   ],
   "source": [
    "compare('swing')"
   ]
  },
  {
   "cell_type": "code",
   "execution_count": 26,
   "metadata": {},
   "outputs": [
    {
     "data": {
      "text/markdown": [
       "# spirits"
      ],
      "text/plain": [
       "<IPython.core.display.Markdown object>"
      ]
     },
     "metadata": {},
     "output_type": "display_data"
    },
    {
     "data": {
      "text/markdown": [
       "#### New England"
      ],
      "text/plain": [
       "<IPython.core.display.Markdown object>"
      ]
     },
     "metadata": {},
     "output_type": "display_data"
    },
    {
     "name": "stdout",
     "output_type": "stream",
     "text": [
      "wine\n",
      "liquor\n",
      "lift\n",
      "harvest\n",
      "craft\n",
      "brewing\n",
      "divine\n",
      "ridge\n",
      "download\n",
      "125\n",
      "whiskey\n",
      "seeds\n",
      "turtle\n",
      "samples\n",
      "inn\n",
      "bottles\n",
      "spirit\n",
      "grill\n",
      "garlic\n",
      "🍻\n",
      "\n",
      "\n"
     ]
    },
    {
     "data": {
      "text/markdown": [
       "#### South"
      ],
      "text/plain": [
       "<IPython.core.display.Markdown object>"
      ]
     },
     "metadata": {},
     "output_type": "display_data"
    },
    {
     "name": "stdout",
     "output_type": "stream",
     "text": [
      "evil\n",
      "bones\n",
      "log\n",
      "tempting\n",
      "flesh\n",
      "tribe\n",
      "minds\n",
      "maya\n",
      "trials\n",
      "lift\n",
      "mountains\n",
      "skies\n",
      "guardian\n",
      "<unk>\n",
      "brewing\n",
      "spirit\n",
      "smiles\n",
      "pouring\n",
      "tastes\n",
      "بين\n"
     ]
    }
   ],
   "source": [
    "compare('spirits')"
   ]
  },
  {
   "cell_type": "code",
   "execution_count": 27,
   "metadata": {},
   "outputs": [
    {
     "data": {
      "text/markdown": [
       "# folk"
      ],
      "text/plain": [
       "<IPython.core.display.Markdown object>"
      ]
     },
     "metadata": {},
     "output_type": "display_data"
    },
    {
     "data": {
      "text/markdown": [
       "#### New England"
      ],
      "text/plain": [
       "<IPython.core.display.Markdown object>"
      ]
     },
     "metadata": {},
     "output_type": "display_data"
    },
    {
     "name": "stdout",
     "output_type": "stream",
     "text": [
      "artists\n",
      "festival\n",
      "fest\n",
      "punk\n",
      "bands\n",
      "tunes\n",
      "music\n",
      "art\n",
      "abstract\n",
      "irish\n",
      "comedy\n",
      "indie\n",
      "songs\n",
      "musicians\n",
      "contemporary\n",
      "band\n",
      "jazz\n",
      "karaoke\n",
      "comedian\n",
      "exhibit\n",
      "\n",
      "\n"
     ]
    },
    {
     "data": {
      "text/markdown": [
       "#### South"
      ],
      "text/plain": [
       "<IPython.core.display.Markdown object>"
      ]
     },
     "metadata": {},
     "output_type": "display_data"
    },
    {
     "name": "stdout",
     "output_type": "stream",
     "text": [
      "folks\n",
      "mfs\n",
      "art\n",
      "doll\n",
      "blacks\n",
      "ish\n",
      "whites\n",
      "ppl\n",
      "streets\n",
      "african\n",
      "asian\n",
      "educated\n",
      "females\n",
      "roots\n",
      "peoples\n",
      "native\n",
      "white\n",
      "voices\n",
      "tryin\n",
      "aye\n"
     ]
    }
   ],
   "source": [
    "compare('folk')"
   ]
  },
  {
   "cell_type": "code",
   "execution_count": 29,
   "metadata": {},
   "outputs": [
    {
     "data": {
      "text/markdown": [
       "# man"
      ],
      "text/plain": [
       "<IPython.core.display.Markdown object>"
      ]
     },
     "metadata": {},
     "output_type": "display_data"
    },
    {
     "data": {
      "text/markdown": [
       "#### New England"
      ],
      "text/plain": [
       "<IPython.core.display.Markdown object>"
      ]
     },
     "metadata": {},
     "output_type": "display_data"
    },
    {
     "name": "stdout",
     "output_type": "stream",
     "text": [
      "dude\n",
      "woman\n",
      "guy\n",
      "spider\n",
      "himself\n",
      "masked\n",
      "wtf\n",
      "bro\n",
      "stealing\n",
      "bicycle\n",
      "caught\n",
      "aw\n",
      "insane\n",
      "cops\n",
      "he\n",
      "touching\n",
      "nigga\n",
      "boy\n",
      "handsome\n",
      "arrest\n",
      "\n",
      "\n"
     ]
    },
    {
     "data": {
      "text/markdown": [
       "#### South"
      ],
      "text/plain": [
       "<IPython.core.display.Markdown object>"
      ]
     },
     "metadata": {},
     "output_type": "display_data"
    },
    {
     "name": "stdout",
     "output_type": "stream",
     "text": [
      "dude\n",
      "bruh\n",
      "woman\n",
      "boy\n",
      "wtf\n",
      "bro\n",
      "nigga\n",
      "damn\n",
      "smh\n",
      "😂😂😂\n",
      "lmao\n",
      "he\n",
      "swear\n",
      "mans\n",
      "lmfao\n",
      "guy\n",
      "nah\n",
      "hell\n",
      "😂😂\n",
      "lol\n"
     ]
    }
   ],
   "source": [
    "compare('man')"
   ]
  },
  {
   "cell_type": "markdown",
   "metadata": {},
   "source": [
    "# Comparisons with concept diffs"
   ]
  },
  {
   "cell_type": "code",
   "execution_count": 30,
   "metadata": {},
   "outputs": [
    {
     "data": {
      "text/markdown": [
       "# earth"
      ],
      "text/plain": [
       "<IPython.core.display.Markdown object>"
      ]
     },
     "metadata": {},
     "output_type": "display_data"
    },
    {
     "data": {
      "text/markdown": [
       "#### New England"
      ],
      "text/plain": [
       "<IPython.core.display.Markdown object>"
      ]
     },
     "metadata": {},
     "output_type": "display_data"
    },
    {
     "name": "stdout",
     "output_type": "stream",
     "text": [
      "planet\n",
      "flat\n",
      "heaven\n",
      "mother\n",
      "humans\n",
      "moon\n",
      "world\n",
      "mars\n",
      "nasa\n",
      "ocean\n",
      "universe\n",
      "nature\n",
      "alien\n",
      "science\n",
      "worlds\n",
      "exist\n",
      "god\n",
      "happiest\n",
      "destroy\n",
      "human\n",
      "\n",
      "\n"
     ]
    },
    {
     "data": {
      "text/markdown": [
       "#### South"
      ],
      "text/plain": [
       "<IPython.core.display.Markdown object>"
      ]
     },
     "metadata": {},
     "output_type": "display_data"
    },
    {
     "name": "stdout",
     "output_type": "stream",
     "text": [
      "planet\n",
      "heaven\n",
      "humans\n",
      "mother\n",
      "god\n",
      "nasa\n",
      "nature\n",
      "happiest\n",
      "dust\n",
      "world\n",
      "aliens\n",
      "dance\n",
      "space\n",
      "human\n",
      "greatest\n",
      "found\n",
      "🌎\n",
      "mars\n",
      "above\n",
      "the\n"
     ]
    }
   ],
   "source": [
    "compare('earth')"
   ]
  },
  {
   "cell_type": "code",
   "execution_count": 31,
   "metadata": {},
   "outputs": [
    {
     "data": {
      "text/markdown": [
       "# nazi"
      ],
      "text/plain": [
       "<IPython.core.display.Markdown object>"
      ]
     },
     "metadata": {},
     "output_type": "display_data"
    },
    {
     "data": {
      "text/markdown": [
       "#### New England"
      ],
      "text/plain": [
       "<IPython.core.display.Markdown object>"
      ]
     },
     "metadata": {},
     "output_type": "display_data"
    },
    {
     "name": "stdout",
     "output_type": "stream",
     "text": [
      "nazis\n",
      "neo\n",
      "fascist\n",
      "supremacist\n",
      "kkk\n",
      "supremacists\n",
      "racist\n",
      "hitler\n",
      "antifa\n",
      "racists\n",
      "traitor\n",
      "communist\n",
      "terrorist\n",
      "leftist\n",
      "supremacy\n",
      "scum\n",
      "blm\n",
      "alt\n",
      "socialist\n",
      "anti\n",
      "\n",
      "\n"
     ]
    },
    {
     "data": {
      "text/markdown": [
       "#### South"
      ],
      "text/plain": [
       "<IPython.core.display.Markdown object>"
      ]
     },
     "metadata": {},
     "output_type": "display_data"
    },
    {
     "name": "stdout",
     "output_type": "stream",
     "text": [
      "neo\n",
      "nazis\n",
      "fascist\n",
      "supremacist\n",
      "kkk\n",
      "racist\n",
      "antifa\n",
      "supremacists\n",
      "hitler\n",
      "blm\n",
      "communist\n",
      "racists\n",
      "terrorist\n",
      "supremacy\n",
      "terrorists\n",
      "germany\n",
      "soros\n",
      "propaganda\n",
      "leftist\n",
      "socialist\n"
     ]
    }
   ],
   "source": [
    "compare('nazi')"
   ]
  },
  {
   "cell_type": "code",
   "execution_count": 32,
   "metadata": {},
   "outputs": [
    {
     "data": {
      "text/markdown": [
       "# russia"
      ],
      "text/plain": [
       "<IPython.core.display.Markdown object>"
      ]
     },
     "metadata": {},
     "output_type": "display_data"
    },
    {
     "data": {
      "text/markdown": [
       "#### New England"
      ],
      "text/plain": [
       "<IPython.core.display.Markdown object>"
      ]
     },
     "metadata": {},
     "output_type": "display_data"
    },
    {
     "name": "stdout",
     "output_type": "stream",
     "text": [
      "putin\n",
      "russian\n",
      "collusion\n",
      "russians\n",
      "comey\n",
      "investigation\n",
      "probe\n",
      "iran\n",
      "trump\n",
      "flynn\n",
      "hillary\n",
      "election\n",
      "hacking\n",
      "fbi\n",
      "syria\n",
      "clinton\n",
      "djt\n",
      "sanctions\n",
      "moscow\n",
      "ties\n",
      "\n",
      "\n"
     ]
    },
    {
     "data": {
      "text/markdown": [
       "#### South"
      ],
      "text/plain": [
       "<IPython.core.display.Markdown object>"
      ]
     },
     "metadata": {},
     "output_type": "display_data"
    },
    {
     "name": "stdout",
     "output_type": "stream",
     "text": [
      "putin\n",
      "russian\n",
      "collusion\n",
      "trump\n",
      "comey\n",
      "probe\n",
      "russians\n",
      "hacking\n",
      "iran\n",
      "sanctions\n",
      "flynn\n",
      "syria\n",
      "investigation\n",
      "fbi\n",
      "election\n",
      "mueller\n",
      "kushner\n",
      "hillary\n",
      "dems\n",
      "clinton\n"
     ]
    }
   ],
   "source": [
    "compare('russia')"
   ]
  },
  {
   "cell_type": "code",
   "execution_count": 33,
   "metadata": {},
   "outputs": [
    {
     "data": {
      "text/markdown": [
       "# god"
      ],
      "text/plain": [
       "<IPython.core.display.Markdown object>"
      ]
     },
     "metadata": {},
     "output_type": "display_data"
    },
    {
     "data": {
      "text/markdown": [
       "#### New England"
      ],
      "text/plain": [
       "<IPython.core.display.Markdown object>"
      ]
     },
     "metadata": {},
     "output_type": "display_data"
    },
    {
     "name": "stdout",
     "output_type": "stream",
     "text": [
      "bless\n",
      "lord\n",
      "jesus\n",
      "pray\n",
      "christ\n",
      "swear\n",
      "gods\n",
      "dammit\n",
      "oh\n",
      "dear\n",
      "damn\n",
      "blessed\n",
      "amen\n",
      "praying\n",
      "goodness\n",
      "praise\n",
      "knows\n",
      "holy\n",
      "blessing\n",
      "🙏\n",
      "\n",
      "\n"
     ]
    },
    {
     "data": {
      "text/markdown": [
       "#### South"
      ],
      "text/plain": [
       "<IPython.core.display.Markdown object>"
      ]
     },
     "metadata": {},
     "output_type": "display_data"
    },
    {
     "name": "stdout",
     "output_type": "stream",
     "text": [
      "lord\n",
      "jesus\n",
      "christ\n",
      "bless\n",
      "pray\n",
      "faith\n",
      "blessed\n",
      "🙏🏾\n",
      "gods\n",
      "praise\n",
      "amen\n",
      "spirit\n",
      "thankful\n",
      "grace\n",
      "🙏🏽\n",
      "blessing\n",
      "glory\n",
      "praying\n",
      "father\n",
      "holy\n"
     ]
    }
   ],
   "source": [
    "compare('god')"
   ]
  },
  {
   "cell_type": "code",
   "execution_count": 37,
   "metadata": {
    "scrolled": false
   },
   "outputs": [
    {
     "data": {
      "text/markdown": [
       "# he"
      ],
      "text/plain": [
       "<IPython.core.display.Markdown object>"
      ]
     },
     "metadata": {},
     "output_type": "display_data"
    },
    {
     "data": {
      "text/markdown": [
       "#### New England"
      ],
      "text/plain": [
       "<IPython.core.display.Markdown object>"
      ]
     },
     "metadata": {},
     "output_type": "display_data"
    },
    {
     "name": "stdout",
     "output_type": "stream",
     "text": [
      "she\n",
      "said\n",
      "him\n",
      "himself\n",
      "knows\n",
      "probably\n",
      "his\n",
      "clearly\n",
      "thinks\n",
      "think\n",
      "knew\n",
      "that\n",
      "but\n",
      "obviously\n",
      "wasn\n",
      "guy\n",
      "who\n",
      "djt\n",
      "didn\n",
      "hasn\n",
      "wouldn\n",
      "doesn\n",
      "says\n",
      "because\n",
      "dude\n",
      "did\n",
      "if\n",
      "once\n",
      "apparently\n",
      "maybe\n",
      "was\n",
      "actually\n",
      "wants\n",
      "potus\n",
      "then\n",
      "yeah\n",
      "they\n",
      "told\n",
      "would\n",
      "also\n",
      "saying\n",
      "when\n",
      "cuz\n",
      "dt\n",
      "someone\n",
      "nobody\n",
      "trump\n",
      "hes\n",
      "believes\n",
      "never\n",
      "\n",
      "\n"
     ]
    },
    {
     "data": {
      "text/markdown": [
       "#### South"
      ],
      "text/plain": [
       "<IPython.core.display.Markdown object>"
      ]
     },
     "metadata": {},
     "output_type": "display_data"
    },
    {
     "name": "stdout",
     "output_type": "stream",
     "text": [
      "him\n",
      "she\n",
      "his\n",
      "himself\n",
      "said\n",
      "knows\n",
      "told\n",
      "think\n",
      "wouldn\n",
      "obviously\n",
      "but\n",
      "that\n",
      "probably\n",
      "because\n",
      "wasn\n",
      "didn\n",
      "knew\n",
      "dude\n",
      "did\n",
      "actually\n",
      "when\n",
      "was\n",
      "who\n",
      "if\n",
      "would\n",
      "wants\n",
      "hasn\n",
      "mean\n",
      "they\n",
      "yeah\n",
      "doesn\n",
      "thinks\n",
      "cuz\n",
      "someone\n",
      "thought\n",
      "not\n",
      "guy\n",
      "clearly\n",
      "know\n",
      "yea\n",
      "gave\n",
      "maybe\n",
      "like\n",
      "does\n",
      "then\n",
      "even\n",
      "whoever\n",
      "believes\n",
      "saying\n",
      "has\n"
     ]
    }
   ],
   "source": [
    "compare('he', 50)"
   ]
  },
  {
   "cell_type": "code",
   "execution_count": 39,
   "metadata": {
    "scrolled": false
   },
   "outputs": [
    {
     "data": {
      "text/markdown": [
       "# depression"
      ],
      "text/plain": [
       "<IPython.core.display.Markdown object>"
      ]
     },
     "metadata": {},
     "output_type": "display_data"
    },
    {
     "data": {
      "text/markdown": [
       "#### New England"
      ],
      "text/plain": [
       "<IPython.core.display.Markdown object>"
      ]
     },
     "metadata": {},
     "output_type": "display_data"
    },
    {
     "name": "stdout",
     "output_type": "stream",
     "text": [
      "anxiety\n",
      "stress\n",
      "illness\n",
      "pain\n",
      "dealing\n",
      "suffering\n",
      "syndrome\n",
      "causes\n",
      "mental\n",
      "symptoms\n",
      "allergies\n",
      "anger\n",
      "headache\n",
      "disease\n",
      "meds\n",
      "suffer\n",
      "prevent\n",
      "tropical\n",
      "grief\n",
      "addiction\n",
      "stroke\n",
      "naps\n",
      "ease\n",
      "struggles\n",
      "pregnancy\n",
      "depressed\n",
      "treating\n",
      "managing\n",
      "knee\n",
      "panic\n",
      "nap\n",
      "recovery\n",
      "relief\n",
      "diabetes\n",
      "mood\n",
      "cancer\n",
      "injury\n",
      "manage\n",
      "awareness\n",
      "reduce\n",
      "brain\n",
      "patients\n",
      "during\n",
      "harvey\n",
      "hunger\n",
      "hiv\n",
      "exercise\n",
      "emotional\n",
      "risk\n",
      "caused\n",
      "\n",
      "\n"
     ]
    },
    {
     "data": {
      "text/markdown": [
       "#### South"
      ],
      "text/plain": [
       "<IPython.core.display.Markdown object>"
      ]
     },
     "metadata": {},
     "output_type": "display_data"
    },
    {
     "name": "stdout",
     "output_type": "stream",
     "text": [
      "anxiety\n",
      "illness\n",
      "tropical\n",
      "suffering\n",
      "stress\n",
      "causes\n",
      "dealing\n",
      "addiction\n",
      "meds\n",
      "insomnia\n",
      "suffer\n",
      "pain\n",
      "depressed\n",
      "mental\n",
      "grief\n",
      "experiencing\n",
      "anger\n",
      "disease\n",
      "symptoms\n",
      "syndrome\n",
      "crisis\n",
      "laughter\n",
      "headache\n",
      "panic\n",
      "caused\n",
      "awareness\n",
      "suicide\n",
      "flooding\n",
      "tooth\n",
      "risk\n",
      "fever\n",
      "prevent\n",
      "issues\n",
      "overcome\n",
      "struggles\n",
      "tragedy\n",
      "struggle\n",
      "tolerance\n",
      "guilt\n",
      "risks\n",
      "constant\n",
      "allergies\n",
      "bullying\n",
      "stroke\n",
      "emo\n",
      "breakdown\n",
      "hurricanes\n",
      "related\n",
      "literal\n",
      "situations\n"
     ]
    }
   ],
   "source": [
    "compare('depression', 50)"
   ]
  },
  {
   "cell_type": "code",
   "execution_count": null,
   "metadata": {},
   "outputs": [],
   "source": []
  }
 ],
 "metadata": {
  "kernelspec": {
   "display_name": "Python 3",
   "language": "python",
   "name": "python3"
  },
  "language_info": {
   "codemirror_mode": {
    "name": "ipython",
    "version": 3
   },
   "file_extension": ".py",
   "mimetype": "text/x-python",
   "name": "python",
   "nbconvert_exporter": "python",
   "pygments_lexer": "ipython3",
   "version": "3.6.2"
  }
 },
 "nbformat": 4,
 "nbformat_minor": 2
}
