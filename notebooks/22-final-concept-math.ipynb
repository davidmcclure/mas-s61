{
 "cells": [
  {
   "cell_type": "code",
   "execution_count": 1,
   "metadata": {},
   "outputs": [],
   "source": [
    "import numpy as np\n",
    "import pandas as pd\n",
    "\n",
    "from gensim.models import KeyedVectors\n",
    "from scipy.spatial.distance import cosine\n",
    "from tqdm import tqdm_notebook\n",
    "\n",
    "from sources import parse_glove_vocab"
   ]
  },
  {
   "cell_type": "code",
   "execution_count": 2,
   "metadata": {},
   "outputs": [],
   "source": [
    "import matplotlib as mpl\n",
    "import matplotlib.pyplot as plt\n",
    "\n",
    "%matplotlib inline\n",
    "mpl.style.use('bmh')"
   ]
  },
  {
   "cell_type": "code",
   "execution_count": 3,
   "metadata": {},
   "outputs": [],
   "source": [
    "m1 = KeyedVectors.load_word2vec_format('../data/corpora/north-south/new-england.w2v.txt')"
   ]
  },
  {
   "cell_type": "code",
   "execution_count": 4,
   "metadata": {},
   "outputs": [],
   "source": [
    "m2 = KeyedVectors.load_word2vec_format('../data/corpora/north-south/deep-south.w2v.txt')"
   ]
  },
  {
   "cell_type": "code",
   "execution_count": 5,
   "metadata": {},
   "outputs": [],
   "source": [
    "combined = KeyedVectors.load_word2vec_format('../data/corpora/north-south/combined.w2v.txt')"
   ]
  },
  {
   "cell_type": "code",
   "execution_count": 6,
   "metadata": {},
   "outputs": [],
   "source": [
    "vocab = parse_glove_vocab('../data/corpora/north-south/vocab.txt')"
   ]
  },
  {
   "cell_type": "code",
   "execution_count": 178,
   "metadata": {},
   "outputs": [
    {
     "data": {
      "text/plain": [
       "[('length', 0.5049359798431396),\n",
       " ('complete', 0.38903945684432983),\n",
       " ('hd', 0.35253140330314636),\n",
       " ('stack', 0.3423921763896942),\n",
       " ('opening', 0.3404300808906555),\n",
       " ('blown', 0.33776575326919556),\n",
       " ('of', 0.33743369579315186),\n",
       " ('view', 0.3183603584766388),\n",
       " ('depth', 0.3104381859302521),\n",
       " ('zip', 0.3082897365093231),\n",
       " ('highlights', 0.30475419759750366),\n",
       " ('whole', 0.3038095235824585),\n",
       " ('mode', 0.30309295654296875),\n",
       " ('review', 0.29942089319229126),\n",
       " ('part', 0.29878121614456177),\n",
       " ('ii', 0.2890329957008362),\n",
       " ('moon', 0.2883172631263733),\n",
       " ('release', 0.2859869599342346),\n",
       " ('free', 0.28577253222465515),\n",
       " ('half', 0.2857567071914673),\n",
       " ('packed', 0.2844902276992798),\n",
       " ('version', 0.278579980134964),\n",
       " ('room', 0.2767868638038635),\n",
       " ('swing', 0.2740824222564697),\n",
       " ('body', 0.27293661236763),\n",
       " ('apply', 0.27210545539855957),\n",
       " ('click', 0.2709727883338928),\n",
       " ('video', 0.26954761147499084),\n",
       " ('trailer', 0.26850101351737976),\n",
       " ('frame', 0.2656404972076416)]"
      ]
     },
     "execution_count": 178,
     "metadata": {},
     "output_type": "execute_result"
    }
   ],
   "source": [
    "token = 'full'\n",
    "m1.most_similar(token, topn=30)"
   ]
  },
  {
   "cell_type": "code",
   "execution_count": 179,
   "metadata": {},
   "outputs": [
    {
     "data": {
      "text/plain": [
       "[('length', 0.435407817363739),\n",
       " ('blown', 0.41423729062080383),\n",
       " ('complete', 0.38919636607170105),\n",
       " ('view', 0.3815538287162781),\n",
       " ('whole', 0.34214094281196594),\n",
       " ('☆★☆', 0.3286590874195099),\n",
       " ('ii', 0.3158103823661804),\n",
       " ('half', 0.3125581741333008),\n",
       " ('of', 0.3048214912414551),\n",
       " ('rn', 0.3010605573654175),\n",
       " ('pocket', 0.29466959834098816),\n",
       " ('opening', 0.28971874713897705),\n",
       " ('part', 0.28435128927230835),\n",
       " ('circle', 0.28204166889190674),\n",
       " ('entire', 0.2769243121147156),\n",
       " ('hd', 0.27291879057884216),\n",
       " ('price', 0.2722204625606537),\n",
       " ('fit', 0.27114593982696533),\n",
       " ('therapist', 0.2707825005054474),\n",
       " ('details', 0.2702878713607788),\n",
       " ('effect', 0.2700255215167999),\n",
       " ('production', 0.26974785327911377),\n",
       " ('massage', 0.26726457476615906),\n",
       " ('nurse', 0.26591360569000244),\n",
       " ('meal', 0.26584041118621826),\n",
       " ('course', 0.26400595903396606),\n",
       " ('gallery', 0.26332783699035645),\n",
       " ('mod', 0.26061469316482544),\n",
       " ('packed', 0.25941383838653564),\n",
       " ('apply', 0.2587586045265198)]"
      ]
     },
     "execution_count": 179,
     "metadata": {},
     "output_type": "execute_result"
    }
   ],
   "source": [
    "m2.most_similar(token, topn=30)"
   ]
  },
  {
   "cell_type": "code",
   "execution_count": 167,
   "metadata": {},
   "outputs": [],
   "source": [
    "def concept_diff(m1, m2, seed, depth=30, topn=30):\n",
    "    \n",
    "    m1_sim = [t for t, _ in m1.most_similar(seed, topn=depth)]\n",
    "    m2_sim = [t for t, _ in m2.most_similar(seed, topn=depth)]\n",
    "    \n",
    "    m1_avg = np.array([combined[t] for t in m1_sim]).mean(0)\n",
    "    m2_avg = np.array([combined[t] for t in m2_sim]).mean(0)\n",
    "    \n",
    "    return combined.similar_by_vector(m1_avg-m2_avg, topn=topn)"
   ]
  },
  {
   "cell_type": "code",
   "execution_count": 168,
   "metadata": {},
   "outputs": [],
   "source": [
    "def north(seed):\n",
    "    return concept_diff(m1, m2, seed)"
   ]
  },
  {
   "cell_type": "code",
   "execution_count": 169,
   "metadata": {},
   "outputs": [],
   "source": [
    "def south(seed):\n",
    "    return concept_diff(m2, m1, seed)"
   ]
  },
  {
   "cell_type": "code",
   "execution_count": 170,
   "metadata": {
    "scrolled": false
   },
   "outputs": [
    {
     "data": {
      "text/plain": [
       "[('radical', 0.39017266035079956),\n",
       " ('christian', 0.32963770627975464),\n",
       " ('authors', 0.3166189193725586),\n",
       " ('social', 0.3155028820037842),\n",
       " ('politicians', 0.31452250480651855),\n",
       " ('leaders', 0.3060218095779419),\n",
       " ('groups', 0.3048692047595978),\n",
       " ('organizations', 0.2976757287979126),\n",
       " ('community', 0.29292958974838257),\n",
       " ('muslim', 0.2926967144012451),\n",
       " ('islamic', 0.2864874005317688),\n",
       " ('schools', 0.2828742563724518),\n",
       " ('become', 0.2812657356262207),\n",
       " ('jewish', 0.27893736958503723),\n",
       " ('terrorism', 0.2784363031387329),\n",
       " ('media', 0.2780627906322479),\n",
       " ('traditional', 0.27261096239089966),\n",
       " ('communities', 0.27225446701049805),\n",
       " ('islam', 0.2653965651988983),\n",
       " ('conservative', 0.2653827369213104),\n",
       " ('muslims', 0.2650068998336792),\n",
       " ('events', 0.25680944323539734),\n",
       " ('native', 0.2549709677696228),\n",
       " ('terrorist', 0.2545480728149414),\n",
       " ('countries', 0.24893291294574738),\n",
       " ('programs', 0.24809890985488892),\n",
       " ('lgbt', 0.2474164515733719),\n",
       " ('nations', 0.246967613697052),\n",
       " ('christians', 0.24682193994522095),\n",
       " ('entrepreneurs', 0.24641145765781403)]"
      ]
     },
     "execution_count": 170,
     "metadata": {},
     "output_type": "execute_result"
    }
   ],
   "source": [
    "token = 'liberal'\n",
    "north(token)"
   ]
  },
  {
   "cell_type": "code",
   "execution_count": 171,
   "metadata": {},
   "outputs": [
    {
     "data": {
      "text/plain": [
       "[('lolol', 0.40383780002593994),\n",
       " ('goddamn', 0.383350133895874),\n",
       " ('😂😂😂😂😂😂', 0.382423460483551),\n",
       " ('pathetic', 0.37693485617637634),\n",
       " ('😂😂😂😂😂', 0.3667609691619873),\n",
       " ('lmaoooooo', 0.35614970326423645),\n",
       " ('hahahahahaha', 0.35565024614334106),\n",
       " ('unreal', 0.353347510099411),\n",
       " ('😂😂😂😂😂😂😂', 0.35003501176834106),\n",
       " ('lmaooooo', 0.3487037420272827),\n",
       " ('ikr', 0.34290167689323425),\n",
       " ('😂😂😂😂', 0.34179380536079407),\n",
       " ('😮', 0.34064120054244995),\n",
       " ('lmfaoooooo', 0.340437114238739),\n",
       " ('yooo', 0.3394015431404114),\n",
       " ('😭😭😭', 0.3392985165119171),\n",
       " ('dumbass', 0.3390021324157715),\n",
       " ('lmfaoo', 0.3383569121360779),\n",
       " ('lmfao', 0.3377176523208618),\n",
       " ('😂😂😂', 0.33715498447418213),\n",
       " ('omfg', 0.336296945810318),\n",
       " ('😭😭', 0.3326728940010071),\n",
       " ('kidding', 0.33137011528015137),\n",
       " ('crying', 0.3301336169242859),\n",
       " ('hahah', 0.3274979591369629),\n",
       " ('smfh', 0.3258247673511505),\n",
       " ('freakin', 0.32321611046791077),\n",
       " ('hahahahaha', 0.32275211811065674),\n",
       " ('xd', 0.3216325044631958),\n",
       " ('😭😭😭😭', 0.3209562301635742)]"
      ]
     },
     "execution_count": 171,
     "metadata": {},
     "output_type": "execute_result"
    }
   ],
   "source": [
    "south(token)"
   ]
  },
  {
   "cell_type": "code",
   "execution_count": null,
   "metadata": {},
   "outputs": [],
   "source": []
  }
 ],
 "metadata": {
  "kernelspec": {
   "display_name": "Python 3",
   "language": "python",
   "name": "python3"
  },
  "language_info": {
   "codemirror_mode": {
    "name": "ipython",
    "version": 3
   },
   "file_extension": ".py",
   "mimetype": "text/x-python",
   "name": "python",
   "nbconvert_exporter": "python",
   "pygments_lexer": "ipython3",
   "version": "3.6.2"
  }
 },
 "nbformat": 4,
 "nbformat_minor": 2
}
